{
 "cells": [
  {
   "cell_type": "markdown",
   "id": "e1290188",
   "metadata": {},
   "source": [
    "# Ecological Analysis of Accelerator-VC Bipartite Networks\n",
    "\n",
    "Analysis of the French accelerator-VC network using ecological metrics inspired by Carniel's work on complex networks in entrepreneurial ecosystems.\n",
    "\n",
    "**Focus**: Nestedness, Modularity, Connectance, and network resilience patterns."
   ]
  },
  {
   "cell_type": "code",
   "execution_count": 1,
   "id": "1ffdf2a0",
   "metadata": {},
   "outputs": [],
   "source": [
    "import pandas as pd\n",
    "import numpy as np\n",
    "import matplotlib.pyplot as plt\n",
    "import seaborn as sns\n",
    "import warnings\n",
    "warnings.filterwarnings('ignore')\n",
    "\n",
    "# Import custom modules\n",
    "from utils.data_cleaning import *\n",
    "from utils.data_extraction import *\n",
    "from utils.network_analysis import *\n",
    "\n",
    "plt.style.use('default')\n",
    "sns.set_palette('husl')"
   ]
  },
  {
   "cell_type": "markdown",
   "id": "bc59611e",
   "metadata": {},
   "source": [
    "## Data Loading and Preparation\n",
    "\n",
    "Load and clean French startup ecosystem data using enhanced techniques."
   ]
  },
  {
   "cell_type": "code",
   "execution_count": 2,
   "id": "24d2f628",
   "metadata": {},
   "outputs": [
    {
     "name": "stdout",
     "output_type": "stream",
     "text": [
      "Companies: 820,313\n",
      "Investors: 38,843\n",
      "Investments: 424,188\n",
      "Funding rounds: 268,283\n"
     ]
    }
   ],
   "source": [
    "raw_data = load_data('data/us')\n",
    "# Load data\n",
    "companies = raw_data['companies']\n",
    "investors = raw_data['investors']\n",
    "investments = raw_data['investments']\n",
    "funding_rounds = raw_data['funding_rounds']\n",
    "\n",
    "print(f\"Companies: {len(companies):,}\")\n",
    "print(f\"Investors: {len(investors):,}\")\n",
    "print(f\"Investments: {len(investments):,}\")\n",
    "print(f\"Funding rounds: {len(funding_rounds):,}\")"
   ]
  },
  {
   "cell_type": "code",
   "execution_count": 3,
   "id": "46cd9574",
   "metadata": {},
   "outputs": [
    {
     "name": "stdout",
     "output_type": "stream",
     "text": [
      "\n",
      "1. Cleaning companies data\n",
      "Initial companies count: 820313\n",
      "Removed 140948 companies founded after 2017\n",
      "Removed 82217 companies with exit status\n",
      "Final companies count after cleaning: 597148\n",
      "Total removed: 223165\n",
      "\n",
      "2. Cleaning funding data\n",
      "Initial investments count: 424188\n",
      "Removed 34038 investments with invalid funding amounts\n",
      "Final investments count after cleaning: 390150\n",
      "Total removed: 34038\n",
      "\n",
      "3. Apply funding threshold ($150,000 as per paper)\n",
      "Applying funding threshold of $150,000\n",
      "Companies meeting funding threshold: 59515\n",
      "Filtered companies: 23320\n",
      "Filtered investments: 381360\n",
      "\n",
      "4. Excluding accelerator-only companies (prevent endogeneity bias)\n",
      "Companies with accelerator-only funding: 2445\n",
      "Companies after excluding accelerator-only: 22527\n",
      "Investments after excluding accelerator-only: 378373\n",
      "\n",
      "FINAL SAMPLE:\n",
      "Companies: 22527\n",
      "Investments: 147832\n",
      "Unique investors: 22101\n",
      "After cleaning:\n",
      "Companies: 22,527\n",
      "Investors: 38,843\n"
     ]
    }
   ],
   "source": [
    "# Data cleaning based on Dalle et al. + Carniel insights\n",
    "cleaned_data = create_final_sample(raw_data, funding_threshold=150000)\n",
    "\n",
    "companies_clean = cleaned_data['companies']\n",
    "investors_clean = cleaned_data['investors']\n",
    "investments_clean = cleaned_data['investments']\n",
    "funding_rounds_clean = cleaned_data['funding_rounds']\n",
    "\n",
    "print(f\"After cleaning:\")\n",
    "print(f\"Companies: {len(companies_clean):,}\")\n",
    "print(f\"Investors: {len(investors_clean):,}\")"
   ]
  },
  {
   "cell_type": "markdown",
   "id": "4f1bb586",
   "metadata": {},
   "source": [
    "## Accelerator-VC Network Construction\n",
    "\n",
    "Build bipartite network following the methodology from 07_19.ipynb but with ecological focus."
   ]
  },
  {
   "cell_type": "code",
   "execution_count": 4,
   "id": "8887626d",
   "metadata": {},
   "outputs": [
    {
     "name": "stdout",
     "output_type": "stream",
     "text": [
      "Found 7130 accelerator investments\n",
      "Unique companies in accelerators: 4383\n",
      "\n",
      "Sample of accelerator investments:\n",
      "         company_name       investor_name investor_types  total_funding_usd\n",
      "846        RescueTime        Y Combinator    accelerator           920000.0\n",
      "1389           Scribd        Y Combinator    accelerator        106750000.0\n",
      "1671       Snap Shots             Idealab      incubator         10000000.0\n",
      "3211  Ambient Devices  Rose Tech Ventures      incubator          8600000.0\n",
      "3218   Critical Media  Rose Tech Ventures      incubator          6200000.0\n",
      "Found 103585 VC investments\n",
      "Unique companies with VC funding: 16899\n",
      "\n",
      "Sample of VC investments:\n",
      "   company_name               investor_name            investor_types  \\\n",
      "7        Scribd                    Redpoint           venture capital   \n",
      "14      MeetMoi       Acadia Woods Partners           venture capital   \n",
      "19        OpenX         First Round Capital           venture capital   \n",
      "20        OpenX  Oreilly AlphaTech Ventures  micro vc,venture capital   \n",
      "21        OpenX   Mangrove Capital Partners           venture capital   \n",
      "\n",
      "    total_funding_usd  \n",
      "7         106750000.0  \n",
      "14          5575000.0  \n",
      "19         70511200.0  \n",
      "20         70511200.0  \n",
      "21         70511200.0  \n",
      "\n",
      "Accelerator-VC pairs:\n",
      "Created 62094 investment pairs\n",
      "Covering 3893 unique investors\n",
      "                               org_uuid investor_name_acc   investor_name_vc\n",
      "0  71bd10b9-0c85-445c-da1f-f914e35f620c      Y Combinator      True Ventures\n",
      "1  71bd10b9-0c85-445c-da1f-f914e35f620c      Y Combinator  Lowercase Capital\n",
      "2  21e77067-5537-408e-cad7-e5e72bb6ad86      Y Combinator           Redpoint\n",
      "3  21e77067-5537-408e-cad7-e5e72bb6ad86      Y Combinator           Redpoint\n",
      "4  21e77067-5537-408e-cad7-e5e72bb6ad86      Y Combinator           Redpoint\n"
     ]
    }
   ],
   "source": [
    "accelerated_investments = extract_accelerator_investments(cleaned_data['investments'])\n",
    "\n",
    "print(\"\\nSample of accelerator investments:\")\n",
    "if 'company_name' in accelerated_investments.columns:\n",
    "    display_cols = ['company_name', 'investor_name', 'investor_types', 'total_funding_usd']\n",
    "    print(accelerated_investments[display_cols].head())\n",
    "else:\n",
    "    print(accelerated_investments[['org_uuid', 'investor_name', 'investor_types']].head())\n",
    "    \n",
    "vc_investments = extract_vc_investments(cleaned_data['investments'])\n",
    "\n",
    "print(\"\\nSample of VC investments:\")\n",
    "if 'company_name' in vc_investments.columns:\n",
    "    display_cols = ['company_name', 'investor_name', 'investor_types', 'total_funding_usd']\n",
    "    print(vc_investments[display_cols].head())\n",
    "else:\n",
    "    print(vc_investments[['org_uuid', 'investor_name', 'investor_types']].head())\n",
    "    \n",
    "print(\"\\nAccelerator-VC pairs:\")\n",
    "accelerator_vc_pairs = create_investment_pairs(accelerated_investments, vc_investments, 'acc', 'vc')\n",
    "print(accelerator_vc_pairs[['org_uuid', 'investor_name_acc', 'investor_name_vc']].head())"
   ]
  },
  {
   "cell_type": "markdown",
   "id": "e3ff9389",
   "metadata": {},
   "source": [
    "## Ecological Network Analysis\n",
    "\n",
    "Comprehensive analysis using ecological metrics inspired by Carniel's framework."
   ]
  },
  {
   "cell_type": "code",
   "execution_count": 5,
   "id": "a35084c1",
   "metadata": {},
   "outputs": [
    {
     "name": "stdout",
     "output_type": "stream",
     "text": [
      "Warning: 6 overlapping nodes found between sets\n",
      "Overlapping nodes: ['Evolution Ventures', 'Adjacent', 'Owl Ventures', 'Jumpstart Ventures', 'Signal Ventures']...\n",
      "Added suffixes to create pseudo-bipartite structure\n",
      "=== Network Structure ===\n",
      "Nodes: 6936 (889 accelerators + 6047 VCs)\n",
      "Edges: 23295\n",
      "Density: 0.004\n",
      "Components: 35\n",
      "\n",
      "=== Ecological Metrics ===\n",
      "Connectance: 0.004\n",
      "Nestedness (NODF): 6.6\n",
      "Modularity: 0.246\n"
     ]
    }
   ],
   "source": [
    "acc_vc_edges = extract_bipartite_edges_from_pairs(\n",
    "    accelerator_vc_pairs, \n",
    "    'investor_name_acc', \n",
    "    'investor_name_vc',\n",
    "    'total_funding_usd'\n",
    ")\n",
    "\n",
    "# Bbipartite analysis with ecological metrics\n",
    "network_analysis = analyze_bipartite_structure_robust(\n",
    "    acc_vc_edges,\n",
    "    'investor_name_acc',\n",
    "    'investor_name_vc',\n",
    "    'total_funding_usd',\n",
    "    'Accelerators',\n",
    "    'VCs',\n",
    "    handle_overlap='suffix'\n",
    ")\n",
    "\n",
    "# Extract key metrics\n",
    "basic_metrics = network_analysis['basic_metrics']\n",
    "ecological_summary = network_analysis['ecological_summary']\n",
    "\n",
    "print(\"=== Network Structure ===\")\n",
    "print(f\"Nodes: {basic_metrics['num_nodes']} ({basic_metrics['set_0_size']} accelerators + {basic_metrics['set_1_size']} VCs)\")\n",
    "print(f\"Edges: {basic_metrics['num_edges']}\")\n",
    "print(f\"Density: {basic_metrics['density']:.3f}\")\n",
    "print(f\"Components: {basic_metrics['num_components']}\")\n",
    "\n",
    "print(\"\\n=== Ecological Metrics ===\")\n",
    "print(f\"Connectance: {ecological_summary['connectance']:.3f}\") # Or density\n",
    "print(f\"Nestedness (NODF): {ecological_summary['nestedness_nodf']:.1f}\")\n",
    "print(f\"Modularity: {ecological_summary['modularity']:.3f}\")\n",
    "\n",
    "# @todo review cross assortativity, maybe doenst make sense\n",
    "# print(f\"Cross-assortativity: {ecological_summary['cross_assortativity']:.3f}\")"
   ]
  },
  {
   "cell_type": "code",
   "execution_count": 6,
   "id": "d7e4f460",
   "metadata": {},
   "outputs": [
    {
     "name": "stdout",
     "output_type": "stream",
     "text": [
      "=== Ecological Interpretation ===\n",
      "Network Type: Mixed architecture\n",
      "Connectance: Low connectance - sparse network\n",
      "Nestedness: Low nestedness - modular structure\n",
      "Modularity: Medium modularity - moderate communities\n",
      "Resilience: Variable resilience patterns\n"
     ]
    }
   ],
   "source": [
    "# Ecological interpretation\n",
    "ecology_summary = summarize_bipartite_ecology(network_analysis)\n",
    "\n",
    "print(\"=== Ecological Interpretation ===\")\n",
    "print(f\"Network Type: {ecology_summary['network_type']}\")\n",
    "print(f\"Connectance: {ecology_summary['connectance_interpretation']}\")\n",
    "print(f\"Nestedness: {ecology_summary['nestedness_interpretation']}\")\n",
    "print(f\"Modularity: {ecology_summary['modularity_interpretation']}\")\n",
    "print(f\"Resilience: {ecology_summary['resilience_prediction']}\")"
   ]
  },
  {
   "cell_type": "markdown",
   "id": "ec05110b",
   "metadata": {},
   "source": [
    "## Network Visualization\n",
    "\n",
    "Visual analysis of the bipartite structure and nestedness pattern."
   ]
  },
  {
   "cell_type": "code",
   "execution_count": 7,
   "id": "59f825b9",
   "metadata": {},
   "outputs": [
    {
     "data": {
      "text/plain": [
       "<Figure size 1000x800 with 0 Axes>"
      ]
     },
     "metadata": {},
     "output_type": "display_data"
    },
    {
     "data": {
      "image/png": "[encoded data removed]",
      "text/plain": [
       "<Figure size 1000x800 with 2 Axes>"
      ]
     },
     "metadata": {},
     "output_type": "display_data"
    }
   ],
   "source": [
    "# Nestedness matrix visualization\n",
    "plt.figure(figsize=(10, 8))\n",
    "visualize_nestedness_matrix(network_analysis['nestedness'])\n",
    "\n",
    "# @note the matrix is sparse, if we remove less connected nodes maybe nestedness will be biger\n",
    "# or simply cluster it before and measure in the clusters"
   ]
  },
  {
   "cell_type": "code",
   "execution_count": 8,
   "id": "6ef802bd",
   "metadata": {},
   "outputs": [
    {
     "data": {
      "image/png": "[encoded data removed]",
      "text/plain": [
       "<Figure size 1400x500 with 2 Axes>"
      ]
     },
     "metadata": {},
     "output_type": "display_data"
    },
    {
     "name": "stdout",
     "output_type": "stream",
     "text": [
      "Accelerator degrees: mean=26.2, max=1893\n",
      "VC degrees: mean=3.9, max=205\n"
     ]
    }
   ],
   "source": [
    "# Degree distribution analysis\n",
    "G = network_analysis['graph']\n",
    "bip_info = is_bipartite_graph(G)\n",
    "set_0 = bip_info['set_0']  # accelerators\n",
    "set_1 = bip_info['set_1']  # VCs\n",
    "\n",
    "degrees_acc = [G.degree(n) for n in set_0]\n",
    "degrees_vc = [G.degree(n) for n in set_1]\n",
    "\n",
    "fig, (ax1, ax2) = plt.subplots(1, 2, figsize=(14, 5))\n",
    "\n",
    "# Accelerator degrees\n",
    "ax1.hist(degrees_acc, bins=20, alpha=0.7, color='lightblue', edgecolor='black')\n",
    "ax1.set_xlabel('Degree')\n",
    "ax1.set_ylabel('Frequency')\n",
    "ax1.set_title('Accelerator Degree Distribution')\n",
    "ax1.grid(True, alpha=0.3)\n",
    "\n",
    "# VC degrees\n",
    "ax2.hist(degrees_vc, bins=20, alpha=0.7, color='lightcoral', edgecolor='black')\n",
    "ax2.set_xlabel('Degree')\n",
    "ax2.set_ylabel('Frequency')\n",
    "ax2.set_title('VC Degree Distribution')\n",
    "ax2.grid(True, alpha=0.3)\n",
    "\n",
    "plt.tight_layout()\n",
    "plt.show()\n",
    "\n",
    "print(f\"Accelerator degrees: mean={np.mean(degrees_acc):.1f}, max={max(degrees_acc)}\")\n",
    "print(f\"VC degrees: mean={np.mean(degrees_vc):.1f}, max={max(degrees_vc)}\")"
   ]
  },
  {
   "cell_type": "markdown",
   "id": "9b451538",
   "metadata": {},
   "source": [
    "## Projection Networks Analysis\n",
    "\n",
    "Analysis of accelerator and VC projection networks."
   ]
  },
  {
   "cell_type": "code",
   "execution_count": 9,
   "id": "84362d27",
   "metadata": {},
   "outputs": [
    {
     "name": "stdout",
     "output_type": "stream",
     "text": [
      "=== Projection Networks ===\n",
      "Accelerator projection: 889 nodes, 64370 edges\n",
      "VC projection: 6047 nodes, 2775584 edges\n",
      "Accelerator projection density: 0.163\n",
      "VC projection density: 0.152\n"
     ]
    }
   ],
   "source": [
    "# Projection analysis -> transforms bipartite in unipartite\n",
    "# we connect nodes that share neighbors -> weak connections\n",
    "projections = network_analysis['projections']\n",
    "acc_proj = projections['projection_0']\n",
    "vc_proj = projections['projection_1']\n",
    "\n",
    "print(\"=== Projection Networks ===\")\n",
    "print(f\"Accelerator projection: {acc_proj.number_of_nodes()} nodes, {acc_proj.number_of_edges()} edges\")\n",
    "print(f\"VC projection: {vc_proj.number_of_nodes()} nodes, {vc_proj.number_of_edges()} edges\")\n",
    "\n",
    "# Projection densities\n",
    "acc_density = nx.density(acc_proj)\n",
    "vc_density = nx.density(vc_proj)\n",
    "\n",
    "print(f\"Accelerator projection density: {acc_density:.3f}\")\n",
    "print(f\"VC projection density: {vc_density:.3f}\")"
   ]
  },
  {
   "cell_type": "markdown",
   "id": "28bd8285",
   "metadata": {},
   "source": [
    "## Key Actors Analysis\n",
    "\n",
    "Identification of central accelerators and VCs in the network."
   ]
  },
  {
   "cell_type": "code",
   "execution_count": 10,
   "id": "7a7b4d8a",
   "metadata": {},
   "outputs": [
    {
     "name": "stdout",
     "output_type": "stream",
     "text": [
      "=== Top 10 Accelerators by Degree ===\n",
      "Y Combinator_Accelerators: 1893 connections\n",
      "MassChallenge_Accelerators: 914 connections\n",
      "Thrive Capital_Accelerators: 429 connections\n",
      "Alchemist Accelerator_Accelerators: 426 connections\n",
      "IQT_Accelerators: 366 connections\n",
      "MedTech Innovator_Accelerators: 322 connections\n",
      "NTT DOCOMO Ventures_Accelerators: 297 connections\n",
      "Google for Startups_Accelerators: 283 connections\n",
      "SkyDeck Berkeley_Accelerators: 265 connections\n",
      "TechNexus Venture Collaborative_Accelerators: 259 connections\n",
      "\n",
      "=== Top 10 VCs by Degree ===\n",
      "Techstars_VCs: 205 connections\n",
      "Right Side Capital Management_VCs: 117 connections\n",
      "500 Global_VCs: 117 connections\n",
      "Alumni Ventures_VCs: 109 connections\n",
      "Plug and Play_VCs: 101 connections\n",
      "Bossa Invest_VCs: 93 connections\n",
      "Gaingels_VCs: 85 connections\n",
      "SOSV_VCs: 73 connections\n",
      "SV Angel_VCs: 64 connections\n",
      "Tiger Global Management_VCs: 55 connections\n"
     ]
    }
   ],
   "source": [
    "# Top accelerators and VCs by degree\n",
    "acc_degrees = [(n, G.degree(n)) for n in set_0]\n",
    "vc_degrees = [(n, G.degree(n)) for n in set_1]\n",
    "\n",
    "acc_degrees.sort(key=lambda x: x[1], reverse=True)\n",
    "vc_degrees.sort(key=lambda x: x[1], reverse=True)\n",
    "\n",
    "print(\"=== Top 10 Accelerators by Degree ===\")\n",
    "for name, degree in acc_degrees[:10]:\n",
    "    print(f\"{name}: {degree} connections\")\n",
    "\n",
    "print(\"\\n=== Top 10 VCs by Degree ===\")\n",
    "for name, degree in vc_degrees[:10]:\n",
    "    print(f\"{name}: {degree} connections\")"
   ]
  },
  {
   "cell_type": "markdown",
   "id": "a9064d47",
   "metadata": {},
   "source": [
    "## Network Report\n",
    "\n",
    "Comprehensive summary for comparative analysis with other ecosystems."
   ]
  },
  {
   "cell_type": "code",
   "execution_count": 13,
   "id": "355d45db",
   "metadata": {},
   "outputs": [
    {
     "name": "stdout",
     "output_type": "stream",
     "text": [
      "Analysis Date: 2025-07-21\n",
      "Dataset: US Startup Ecosystem\n",
      "\n",
      "--- Network Structure ---\n",
      "Total nodes: 6936 (889 accelerators + 6047 VCs)\n",
      "Total edges: 23295\n",
      "\n",
      "--- Key Metrics ---\n",
      "Density: 0.004\n",
      "Connectance: 0.004\n",
      "Nestedness (NODF): 6.6\n",
      "Modularity: 0.246\n",
      "Cross-assortativity: -0.108\n",
      "\n",
      "--- Ecological Classification ---\n",
      "Network Type: Mixed architecture\n",
      "Resilience Pattern: Variable resilience patterns\n"
     ]
    }
   ],
   "source": [
    "# Generate comprehensive report\n",
    "network_report = {\n",
    "    'dataset': 'US Startup Ecosystem',\n",
    "    'analysis_date': '2025-07-21',\n",
    "    'network_size': {\n",
    "        'total_nodes': basic_metrics['num_nodes'],\n",
    "        'accelerators': basic_metrics['set_0_size'],\n",
    "        'vcs': basic_metrics['set_1_size'],\n",
    "        'total_edges': basic_metrics['num_edges']\n",
    "    },\n",
    "    'structural_metrics': {\n",
    "        'density': basic_metrics['density'],\n",
    "        'connectance': ecological_summary['connectance'],\n",
    "        'components': basic_metrics['num_components'],\n",
    "        'largest_component_size': basic_metrics['largest_component_size']\n",
    "    },\n",
    "    'ecological_metrics': {\n",
    "        'nestedness_nodf': ecological_summary['nestedness_nodf'],\n",
    "        'modularity': ecological_summary['modularity'],\n",
    "        'cross_assortativity': ecological_summary['cross_assortativity']\n",
    "    },\n",
    "    'degree_statistics': {\n",
    "        'acc_mean_degree': np.mean(degrees_acc),\n",
    "        'acc_max_degree': max(degrees_acc),\n",
    "        'vc_mean_degree': np.mean(degrees_vc),\n",
    "        'vc_max_degree': max(degrees_vc)\n",
    "    },\n",
    "    'ecological_interpretation': ecology_summary,\n",
    "    'top_actors': {\n",
    "        'top_accelerators': [{'name': name, 'degree': degree} for name, degree in acc_degrees[:5]],\n",
    "        'top_vcs': [{'name': name, 'degree': degree} for name, degree in vc_degrees[:5]]\n",
    "    }\n",
    "}\n",
    "\n",
    "print(f\"Analysis Date: {network_report['analysis_date']}\")\n",
    "print(f\"Dataset: {network_report['dataset']}\")\n",
    "\n",
    "print(\"\\n--- Network Structure ---\")\n",
    "ns = network_report['network_size']\n",
    "print(f\"Total nodes: {ns['total_nodes']} ({ns['accelerators']} accelerators + {ns['vcs']} VCs)\")\n",
    "print(f\"Total edges: {ns['total_edges']}\")\n",
    "\n",
    "print(\"\\n--- Key Metrics ---\")\n",
    "sm = network_report['structural_metrics']\n",
    "em = network_report['ecological_metrics']\n",
    "print(f\"Density: {sm['density']:.3f}\")\n",
    "print(f\"Connectance: {sm['connectance']:.3f}\")\n",
    "print(f\"Nestedness (NODF): {em['nestedness_nodf']:.1f}\")\n",
    "print(f\"Modularity: {em['modularity']:.3f}\")\n",
    "print(f\"Cross-assortativity: {em['cross_assortativity']:.3f}\")\n",
    "\n",
    "print(\"\\n--- Ecological Classification ---\")\n",
    "ei = network_report['ecological_interpretation']\n",
    "print(f\"Network Type: {ei['network_type']}\")\n",
    "print(f\"Resilience Pattern: {ei['resilience_prediction']}\")"
   ]
  },
  {
   "cell_type": "code",
   "execution_count": 14,
   "id": "234f92ea",
   "metadata": {},
   "outputs": [
    {
     "name": "stdout",
     "output_type": "stream",
     "text": [
      "Network report saved to 'network_report_2025.json'\n",
      "Ready for comparative analysis with other datasets.\n"
     ]
    }
   ],
   "source": [
    "# Save report for future comparisons\n",
    "import json\n",
    "with open('network_report_2025.json', 'w') as f:\n",
    "    json.dump(network_report, f, indent=2, default=str)\n",
    "\n",
    "print(\"Network report saved to 'network_report_2025.json'\")\n",
    "print(\"Ready for comparative analysis with other datasets.\")"
   ]
  }
 ],
 "metadata": {
  "kernelspec": {
   "display_name": "Python 3",
   "language": "python",
   "name": "python3"
  },
  "language_info": {
   "codemirror_mode": {
    "name": "ipython",
    "version": 3
   },
   "file_extension": ".py",
   "mimetype": "text/x-python",
   "name": "python",
   "nbconvert_exporter": "python",
   "pygments_lexer": "ipython3",
   "version": "3.13.5"
  }
 },
 "nbformat": 4,
 "nbformat_minor": 5
}
