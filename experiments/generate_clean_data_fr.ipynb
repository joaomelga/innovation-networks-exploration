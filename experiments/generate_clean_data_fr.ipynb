{
 "cells": [
  {
   "cell_type": "code",
   "execution_count": null,
   "id": "275e2ed8",
   "metadata": {},
   "outputs": [
    {
     "name": "stdout",
     "output_type": "stream",
     "text": [
      "Companies: 56,797\n",
      "Investors: 4,564\n",
      "Investments: 23,420\n",
      "Funding rounds: 14,375\n",
      "\n",
      "1. Cleaning companies data\n",
      "Initial companies count: 56797\n",
      "Removed 9151 companies founded after 2017\n",
      "Removed 4231 companies with exit status\n",
      "Final companies count after cleaning: 43415\n",
      "Total removed: 13382\n",
      "\n",
      "2. Cleaning funding data\n",
      "Initial investments count: 23420\n",
      "Removed 2533 investments with invalid funding amounts\n",
      "Final investments count after cleaning: 20887\n",
      "Total removed: 2533\n",
      "\n",
      "3. Apply funding threshold ($150,000 as per paper)\n",
      "Applying funding threshold of $150,000\n",
      "Companies meeting funding threshold: 4854\n",
      "Filtered companies: 2415\n",
      "Filtered investments: 20650\n",
      "\n",
      "4. Excluding accelerator-only companies (prevent endogeneity bias)\n"
     ]
    },
    {
     "name": "stderr",
     "output_type": "stream",
     "text": [
      "c:\\Projects\\ATC\\memoire\\analysis\\..\\utils\\data_cleaning.py:188: FutureWarning: DataFrameGroupBy.apply operated on the grouping columns. This behavior is deprecated, and in a future version of pandas the grouping columns will be excluded from the operation. Either pass `include_groups=False` to exclude the groupings or explicitly select the grouping columns after groupby to silence this warning.\n",
      "  company_investor_types = investments_df.groupby('org_uuid').apply(\n"
     ]
    },
    {
     "name": "stdout",
     "output_type": "stream",
     "text": [
      "Companies with accelerator-only funding: 116\n",
      "Companies after excluding accelerator-only: 2361\n",
      "Investments after excluding accelerator-only: 20505\n",
      "\n",
      "FINAL SAMPLE:\n",
      "Companies: 2361\n",
      "Investments: 10163\n",
      "Unique investors: 2343\n",
      "After cleaning:\n",
      "Companies: 2,361\n",
      "Investors: 4,564\n",
      "Cleaned data exported to ../data/france\n"
     ]
    }
   ],
   "source": [
    "import sys\n",
    "\n",
    "sys.path.append('../') \n",
    "\n",
    "# Import custom modules\n",
    "from utils.data_cleaning import *\n",
    "from utils.data_extraction import *\n",
    "from utils.network_analysis import *\n",
    "\n",
    "## Data Loading and Preparation\n",
    "country = \"us\"\n",
    "data_dir = f'../data/{country}'\n",
    "raw_data = load_data(data_dir)\n",
    "\n",
    "# Load data\n",
    "companies = raw_data['companies']\n",
    "investors = raw_data['investors']\n",
    "investments = raw_data['investments']\n",
    "funding_rounds = raw_data['funding_rounds']\n",
    "\n",
    "print(f\"Companies: {len(companies):,}\")\n",
    "print(f\"Investors: {len(investors):,}\")\n",
    "print(f\"Investments: {len(investments):,}\")\n",
    "print(f\"Funding rounds: {len(funding_rounds):,}\")\n",
    "\n",
    "# Data cleaning based on Dalle et al. + Carniel insights\n",
    "cleaned_data = create_final_sample(raw_data, funding_threshold=150000)\n",
    "\n",
    "companies_clean = cleaned_data['companies']\n",
    "investors_clean = cleaned_data['investors']\n",
    "investments_clean = cleaned_data['investments']\n",
    "funding_rounds_clean = cleaned_data['funding_rounds']\n",
    "\n",
    "print(f\"After cleaning:\")\n",
    "print(f\"Companies: {len(companies_clean):,}\")\n",
    "print(f\"Investors: {len(investors_clean):,}\")\n",
    "\n",
    "# Save each DataFrame to its respective CSV file\n",
    "companies_clean.to_csv(f'{data_dir}/companies_clean.csv', index=False)\n",
    "investors_clean.to_csv(f'{data_dir}/investors_clean.csv', index=False)\n",
    "investments_clean.to_csv(f'{data_dir}/investments_clean.csv', index=False)\n",
    "funding_rounds_clean.to_csv(f'{data_dir}/funding_rounds_clean.csv', index=False)\n",
    "\n",
    "print(f\"Cleaned data exported to {data_dir}\")"
   ]
  }
 ],
 "metadata": {
  "kernelspec": {
   "display_name": "Python 3",
   "language": "python",
   "name": "python3"
  },
  "language_info": {
   "codemirror_mode": {
    "name": "ipython",
    "version": 3
   },
   "file_extension": ".py",
   "mimetype": "text/x-python",
   "name": "python",
   "nbconvert_exporter": "python",
   "pygments_lexer": "ipython3",
   "version": "3.13.5"
  }
 },
 "nbformat": 4,
 "nbformat_minor": 5
}
