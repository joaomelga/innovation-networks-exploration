{
 "cells": [
  {
   "cell_type": "markdown",
   "id": "9e2f528d",
   "metadata": {},
   "source": [
    "# Data Extraction and Cleaning Tests\n",
    "\n",
    "This notebook tests the data extraction and cleaning functions implemented according to the methodology from Dalle et al. (2025).\n",
    "\n",
    "## Paper Methodology Summary:\n",
    "- Exclude companies with incomplete information\n",
    "- Exclude companies founded after 2014\n",
    "- Exclude companies with inconsistent funding data\n",
    "- Apply $150,000 minimum funding threshold\n",
    "- Exclude companies with only accelerator funding (prevent endogeneity bias)\n",
    "- Exclude companies with exit status (bankruptcy/takeover)\n",
    "\n",
    "**Target**: Final sample of ~6,000 companies with ~688 accelerated companies (~11.5%)"
   ]
  },
  {
   "cell_type": "code",
   "execution_count": 1,
   "id": "49add9be",
   "metadata": {},
   "outputs": [
    {
     "name": "stdout",
     "output_type": "stream",
     "text": [
      "Libraries imported successfully!\n"
     ]
    }
   ],
   "source": [
    "import pandas as pd\n",
    "import numpy as np\n",
    "import matplotlib.pyplot as plt\n",
    "import seaborn as sns\n",
    "from data_extraction import *\n",
    "from data_cleaning import *\n",
    "from network_analysis import *\n",
    "\n",
    "# Set display options\n",
    "pd.set_option('display.max_columns', None)\n",
    "pd.set_option('display.width', None)\n",
    "pd.set_option('display.max_colwidth', 50)\n",
    "\n",
    "print(\"Libraries imported successfully!\")"
   ]
  },
  {
   "cell_type": "markdown",
   "id": "781aa98b",
   "metadata": {},
   "source": [
    "## 1. Data ETL"
   ]
  },
  {
   "cell_type": "markdown",
   "id": "ef6d08e3",
   "metadata": {},
   "source": [
    "### 1.1. Data Loading and Initial Exploration"
   ]
  },
  {
   "cell_type": "code",
   "execution_count": 2,
   "id": "29352cde",
   "metadata": {},
   "outputs": [
    {
     "name": "stdout",
     "output_type": "stream",
     "text": [
      "Loading raw data from France dataset...\n",
      "✓ Loaded companies: 56797 rows, 43 columns\n",
      "✓ Loaded funding_rounds: 14375 rows, 17 columns\n",
      "✓ Loaded companies: 56797 rows, 43 columns\n",
      "✓ Loaded funding_rounds: 14375 rows, 17 columns\n",
      "✓ Loaded investments: 23420 rows, 35 columns\n",
      "✓ Loaded investors: 4564 rows, 12 columns\n",
      "\n",
      "==================================================\n",
      "RAW DATA OVERVIEW\n",
      "==================================================\n",
      "\n",
      "COMPANIES:\n",
      "Shape: (56797, 43)\n",
      "Columns: ['uuid', 'name', 'cb_url', 'rank', 'homepage_url']...\n",
      "\n",
      "FUNDING_ROUNDS:\n",
      "Shape: (14375, 17)\n",
      "Columns: ['uuid', 'name', 'country_code', 'country', 'region']...\n",
      "\n",
      "INVESTMENTS:\n",
      "Shape: (23420, 35)\n",
      "Columns: ['uuid', 'funding_round_uuid', 'investor_uuid', 'is_lead_investor', 'investor_name']...\n",
      "\n",
      "INVESTORS:\n",
      "Shape: (4564, 12)\n",
      "Columns: ['uuid', 'name', 'city', 'region', 'country_code']...\n",
      "✓ Loaded investments: 23420 rows, 35 columns\n",
      "✓ Loaded investors: 4564 rows, 12 columns\n",
      "\n",
      "==================================================\n",
      "RAW DATA OVERVIEW\n",
      "==================================================\n",
      "\n",
      "COMPANIES:\n",
      "Shape: (56797, 43)\n",
      "Columns: ['uuid', 'name', 'cb_url', 'rank', 'homepage_url']...\n",
      "\n",
      "FUNDING_ROUNDS:\n",
      "Shape: (14375, 17)\n",
      "Columns: ['uuid', 'name', 'country_code', 'country', 'region']...\n",
      "\n",
      "INVESTMENTS:\n",
      "Shape: (23420, 35)\n",
      "Columns: ['uuid', 'funding_round_uuid', 'investor_uuid', 'is_lead_investor', 'investor_name']...\n",
      "\n",
      "INVESTORS:\n",
      "Shape: (4564, 12)\n",
      "Columns: ['uuid', 'name', 'city', 'region', 'country_code']...\n"
     ]
    }
   ],
   "source": [
    "# Load the raw data\n",
    "print(\"Loading raw data from France dataset...\")\n",
    "raw_data = load_france_data('data/france')\n",
    "\n",
    "print(\"\\n\" + \"=\"*50)\n",
    "print(\"RAW DATA OVERVIEW\")\n",
    "print(\"=\"*50)\n",
    "\n",
    "for name, df in raw_data.items():\n",
    "    print(f\"\\n{name.upper()}:\")\n",
    "    print(f\"Shape: {df.shape}\")\n",
    "    print(f\"Columns: {list(df.columns[:5])}{'...' if len(df.columns) > 5 else ''}\")"
   ]
  },
  {
   "cell_type": "code",
   "execution_count": 3,
   "id": "74a0c95f",
   "metadata": {},
   "outputs": [
    {
     "name": "stdout",
     "output_type": "stream",
     "text": [
      "MISSING DATA ANALYSIS:\n",
      "==============================\n",
      "\n",
      "COMPANIES:\n",
      "  category_groups_list: 26 (0.0%)\n",
      "  closed_year: 55931 (98.5%)\n",
      "  employee_count: 56 (0.1%)\n",
      "  acquired_year: 53744 (94.6%)\n",
      "  category: 130 (0.2%)\n",
      "\n",
      "FUNDING_ROUNDS:\n",
      "  country_code: 10 (0.1%)\n",
      "  country: 10 (0.1%)\n",
      "  region: 10 (0.1%)\n",
      "  city: 10 (0.1%)\n",
      "  ecosystem: 39 (0.3%)\n",
      "\n",
      "INVESTMENTS:\n",
      "  is_lead_investor: 14659 (62.6%)\n",
      "  investor_types: 1716 (7.3%)\n",
      "  investor_region: 398 (1.7%)\n",
      "  investor_country: 398 (1.7%)\n",
      "  investor_founded_year: 1405 (6.0%)\n",
      "\n",
      "INVESTORS:\n",
      "  city: 290 (6.4%)\n",
      "  region: 290 (6.4%)\n",
      "  country_code: 290 (6.4%)\n",
      "  investor_types: 1104 (24.2%)\n",
      "  founded_year: 669 (14.7%)\n"
     ]
    }
   ],
   "source": [
    "# Get detailed data summary\n",
    "data_summary = get_data_summary(raw_data)\n",
    "\n",
    "# Display missing data information\n",
    "print(\"MISSING DATA ANALYSIS:\")\n",
    "print(\"=\"*30)\n",
    "\n",
    "for dataset_name, summary in data_summary.items():\n",
    "    print(f\"\\n{dataset_name.upper()}:\")\n",
    "    missing_data = summary['missing_data']\n",
    "    total_rows = summary['shape'][0]\n",
    "    \n",
    "    # Show only columns with missing data\n",
    "    missing_cols = {k: v for k, v in missing_data.items() if v > 0}\n",
    "    if missing_cols:\n",
    "        for col, missing_count in list(missing_cols.items())[:5]:  # Show top 5\n",
    "            pct_missing = (missing_count / total_rows) * 100\n",
    "            print(f\"  {col}: {missing_count} ({pct_missing:.1f}%)\")\n",
    "    else:\n",
    "        print(\"  No missing data\")"
   ]
  },
  {
   "cell_type": "markdown",
   "id": "51184991",
   "metadata": {},
   "source": [
    "### 1.2. Data Cleaning"
   ]
  },
  {
   "cell_type": "code",
   "execution_count": 4,
   "id": "d26ef791",
   "metadata": {},
   "outputs": [
    {
     "name": "stdout",
     "output_type": "stream",
     "text": [
      "APPLYING COMPLETE CLEANING PROCESS\n",
      "======================================\n",
      "==================================================\n",
      "CREATING FINAL SAMPLE FOLLOWING PAPER METHODOLOGY\n",
      "==================================================\n",
      "\n",
      "1. Cleaning companies data...\n",
      "Initial companies count: 56797\n",
      "Removed 9151 companies founded after 2017\n",
      "Removed 4231 companies with exit status\n",
      "Final companies count after cleaning: 43415\n",
      "Total removed: 13382\n",
      "\n",
      "2. Cleaning funding data...\n",
      "Initial investments count: 23420\n",
      "Removed 2533 investments with invalid funding amounts\n",
      "Removed 9151 companies founded after 2017\n",
      "Removed 4231 companies with exit status\n",
      "Final companies count after cleaning: 43415\n",
      "Total removed: 13382\n",
      "\n",
      "2. Cleaning funding data...\n",
      "Initial investments count: 23420\n",
      "Removed 2533 investments with invalid funding amounts\n",
      "Final investments count after cleaning: 20887\n",
      "Total removed: 2533\n",
      "\n",
      "3. Applying funding threshold...\n",
      "Applying funding threshold of $150,000\n",
      "Companies meeting funding threshold: 4854\n",
      "Filtered companies: 2415\n",
      "Filtered investments: 20650\n",
      "\n",
      "4. Excluding accelerator-only companies...\n",
      "Excluding companies with accelerator-only funding...\n",
      "Final investments count after cleaning: 20887\n",
      "Total removed: 2533\n",
      "\n",
      "3. Applying funding threshold...\n",
      "Applying funding threshold of $150,000\n",
      "Companies meeting funding threshold: 4854\n",
      "Filtered companies: 2415\n",
      "Filtered investments: 20650\n",
      "\n",
      "4. Excluding accelerator-only companies...\n",
      "Excluding companies with accelerator-only funding...\n",
      "Companies with accelerator-only funding: 116\n",
      "Companies after excluding accelerator-only: 2361\n",
      "Investments after excluding accelerator-only: 20505\n",
      "\n",
      "5. Final consistency check...\n",
      "\n",
      "FINAL SAMPLE:\n",
      "Companies: 2361\n",
      "Investments: 10163\n",
      "Unique investors: 2343\n",
      "\n",
      "==================================================\n",
      "CLEANING PROCESS COMPLETED\n",
      "==================================================\n",
      "Companies with accelerator-only funding: 116\n",
      "Companies after excluding accelerator-only: 2361\n",
      "Investments after excluding accelerator-only: 20505\n",
      "\n",
      "5. Final consistency check...\n",
      "\n",
      "FINAL SAMPLE:\n",
      "Companies: 2361\n",
      "Investments: 10163\n",
      "Unique investors: 2343\n",
      "\n",
      "==================================================\n",
      "CLEANING PROCESS COMPLETED\n",
      "==================================================\n"
     ]
    },
    {
     "name": "stderr",
     "output_type": "stream",
     "text": [
      "c:\\Projects\\ATC\\memoire\\data_cleaning.py:189: FutureWarning: DataFrameGroupBy.apply operated on the grouping columns. This behavior is deprecated, and in a future version of pandas the grouping columns will be excluded from the operation. Either pass `include_groups=False` to exclude the groupings or explicitly select the grouping columns after groupby to silence this warning.\n",
      "  company_investor_types = investments_df.groupby('org_uuid').apply(\n"
     ]
    }
   ],
   "source": [
    "# Apply the complete cleaning process following the paper\n",
    "print(\"APPLYING COMPLETE CLEANING PROCESS\")\n",
    "print(\"=\"*38)\n",
    "\n",
    "cleaned_data = create_final_sample(raw_data, funding_threshold=150000)\n",
    "\n",
    "print(\"\\n\" + \"=\"*50)\n",
    "print(\"CLEANING PROCESS COMPLETED\")\n",
    "print(\"=\"*50)"
   ]
  },
  {
   "cell_type": "code",
   "execution_count": 5,
   "id": "97dcfd2d",
   "metadata": {},
   "outputs": [
    {
     "name": "stdout",
     "output_type": "stream",
     "text": [
      "FINAL SAMPLE STATISTICS\n",
      "=========================\n",
      "Total Companies: 2,361\n",
      "Total Investments: 10,163\n",
      "Unique Investors: 2,343\n",
      "Accelerated Companies: 483\n",
      "Acceleration Rate: 20.5%\n",
      "Avg Funding Per Company: $301,532,570\n",
      "Median Funding Per Company: $8,752,348\n",
      "Total Funding Volume: $711,918,398,201\n",
      "\n",
      "Founding Years:\n",
      "  min: 1995\n",
      "  max: 2017\n",
      "\n",
      "Investment Years:\n",
      "  min: 1999\n",
      "  max: 2025\n"
     ]
    }
   ],
   "source": [
    "# Get detailed statistics about the final sample\n",
    "sample_stats = get_sample_statistics(cleaned_data)\n",
    "\n",
    "print(\"FINAL SAMPLE STATISTICS\")\n",
    "print(\"=\"*25)\n",
    "\n",
    "for key, value in sample_stats.items():\n",
    "    if isinstance(value, dict):\n",
    "        print(f\"\\n{key.replace('_', ' ').title()}:\")\n",
    "        for subkey, subvalue in value.items():\n",
    "            print(f\"  {subkey}: {subvalue}\")\n",
    "    elif isinstance(value, float):\n",
    "        if 'rate' in key:\n",
    "            print(f\"{key.replace('_', ' ').title()}: {value:.1%}\")\n",
    "        elif 'funding' in key:\n",
    "            print(f\"{key.replace('_', ' ').title()}: ${value:,.0f}\")\n",
    "        else:\n",
    "            print(f\"{key.replace('_', ' ').title()}: {value:.2f}\")\n",
    "    else:\n",
    "        print(f\"{key.replace('_', ' ').title()}: {value:,}\")"
   ]
  },
  {
   "cell_type": "markdown",
   "id": "b0dbfcad",
   "metadata": {},
   "source": [
    "### 1.3. Cleaned Data Visualisation and Validation"
   ]
  },
  {
   "cell_type": "code",
   "execution_count": 6,
   "id": "e6df6585",
   "metadata": {},
   "outputs": [
    {
     "name": "stdout",
     "output_type": "stream",
     "text": [
      "Company funding summary created for 2361 companies\n",
      "FUNDING PATTERNS ANALYSIS\n",
      "===========================\n",
      "Companies in final sample: 2361\n",
      "Average funding per company: $301,532,570\n",
      "Median funding per company: $8,752,348\n",
      "Average funding rounds per company: 4.3\n"
     ]
    },
    {
     "data": {
      "image/png": "[encoded data removed]",
      "text/plain": [
       "<Figure size 1200x400 with 2 Axes>"
      ]
     },
     "metadata": {},
     "output_type": "display_data"
    }
   ],
   "source": [
    "# Analyze funding patterns\n",
    "companies_final = cleaned_data['companies']\n",
    "investments_final = cleaned_data['investments']\n",
    "\n",
    "# Create company funding summary\n",
    "funding_summary = extract_company_funding_summary(companies_final, investments_final)\n",
    "\n",
    "print(\"FUNDING PATTERNS ANALYSIS\")\n",
    "print(\"=\"*27)\n",
    "\n",
    "print(f\"Companies in final sample: {len(funding_summary)}\")\n",
    "print(f\"Average funding per company: ${funding_summary['total_funding_sum'].mean():,.0f}\")\n",
    "print(f\"Median funding per company: ${funding_summary['total_funding_sum'].median():,.0f}\")\n",
    "print(f\"Average funding rounds per company: {funding_summary['funding_rounds_count'].mean():.1f}\")\n",
    "\n",
    "# Show funding distribution\n",
    "plt.figure(figsize=(12, 4))\n",
    "\n",
    "plt.subplot(1, 2, 1)\n",
    "plt.hist(funding_summary['total_funding_sum'].dropna(), bins=30, alpha=0.7, edgecolor='black')\n",
    "plt.xlabel('Total Funding (USD)')\n",
    "plt.ylabel('Number of Companies')\n",
    "plt.title('Distribution of Total Funding')\n",
    "plt.yscale('log')\n",
    "plt.xscale('log')\n",
    "\n",
    "plt.subplot(1, 2, 2)\n",
    "plt.hist(funding_summary['funding_rounds_count'].dropna(), bins=range(1, 10), alpha=0.7, edgecolor='black')\n",
    "plt.xlabel('Number of Funding Rounds')\n",
    "plt.ylabel('Number of Companies')\n",
    "plt.title('Distribution of Funding Rounds')\n",
    "\n",
    "plt.tight_layout()\n",
    "plt.show()"
   ]
  },
  {
   "cell_type": "code",
   "execution_count": 7,
   "id": "9e1eb8a9",
   "metadata": {},
   "outputs": [
    {
     "name": "stdout",
     "output_type": "stream",
     "text": [
      "ACCELERATOR PARTICIPATION ANALYSIS\n",
      "====================================\n",
      "Identified 483 companies that participated in accelerator programs\n",
      "Companies with accelerator participation: 483\n",
      "Acceleration rate in final sample: 20.5%\n",
      "\n",
      "Comparison with paper:\n",
      "Paper acceleration rate: 11.5%\n",
      "Our acceleration rate: 20.5%\n"
     ]
    }
   ],
   "source": [
    "# Analyze accelerator participation in final sample\n",
    "print(\"ACCELERATOR PARTICIPATION ANALYSIS\")\n",
    "print(\"=\"*36)\n",
    "\n",
    "# Identify accelerated companies in final sample\n",
    "accelerated_in_final = identify_accelerated_companies(investments_final)\n",
    "\n",
    "print(f\"Companies with accelerator participation: {len(accelerated_in_final)}\")\n",
    "print(f\"Acceleration rate in final sample: {len(accelerated_in_final)/len(companies_final):.1%}\")\n",
    "\n",
    "# Compare with paper's reported 688 out of 6000 (11.5%)\n",
    "paper_rate = 688 / 6000\n",
    "our_rate = len(accelerated_in_final) / len(companies_final)\n",
    "\n",
    "print(f\"\\nComparison with paper:\")\n",
    "print(f\"Paper acceleration rate: {paper_rate:.1%}\")\n",
    "print(f\"Our acceleration rate: {our_rate:.1%}\")"
   ]
  },
  {
   "cell_type": "code",
   "execution_count": 8,
   "id": "5409e115",
   "metadata": {},
   "outputs": [
    {
     "name": "stdout",
     "output_type": "stream",
     "text": [
      "Investment type categorization:\n",
      "investment_category\n",
      "other       3664\n",
      "seed        2186\n",
      "series_a    1975\n",
      "series_b    1348\n",
      "series_c     607\n",
      "grant        288\n",
      "angel         95\n",
      "Name: count, dtype: int64\n",
      "INVESTMENT TYPE ANALYSIS\n",
      "=========================\n",
      "\n",
      "Investment types in final sample:\n",
      "  other: 3664 (36.1%)\n",
      "  seed: 2186 (21.5%)\n",
      "  series_a: 1975 (19.4%)\n",
      "  series_b: 1348 (13.3%)\n",
      "  series_c: 607 (6.0%)\n",
      "  grant: 288 (2.8%)\n",
      "  angel: 95 (0.9%)\n"
     ]
    },
    {
     "data": {
      "image/png": "[encoded data removed]",
      "text/plain": [
       "<Figure size 1000x600 with 1 Axes>"
      ]
     },
     "metadata": {},
     "output_type": "display_data"
    }
   ],
   "source": [
    "# Analyze investment types and timing\n",
    "investments_categorized = categorize_investment_types(investments_final)\n",
    "\n",
    "print(\"INVESTMENT TYPE ANALYSIS\")\n",
    "print(\"=\"*25)\n",
    "\n",
    "# Investment type distribution\n",
    "type_counts = investments_categorized['investment_category'].value_counts()\n",
    "print(\"\\nInvestment types in final sample:\")\n",
    "for inv_type, count in type_counts.items():\n",
    "    pct = (count / len(investments_categorized)) * 100\n",
    "    print(f\"  {inv_type}: {count} ({pct:.1f}%)\")\n",
    "\n",
    "# Visualize investment types\n",
    "plt.figure(figsize=(10, 6))\n",
    "type_counts.plot(kind='bar', alpha=0.7, edgecolor='black')\n",
    "plt.title('Distribution of Investment Types in Final Sample')\n",
    "plt.xlabel('Investment Type')\n",
    "plt.ylabel('Number of Investments')\n",
    "plt.xticks(rotation=45)\n",
    "plt.tight_layout()\n",
    "plt.show()"
   ]
  },
  {
   "cell_type": "code",
   "execution_count": 9,
   "id": "0ac9730d",
   "metadata": {},
   "outputs": [
    {
     "name": "stdout",
     "output_type": "stream",
     "text": [
      "Top 10 sectors:\n",
      "main_category\n",
      "Commerce and Shopping           230\n",
      "Biotechnology                   179\n",
      "Consumer Electronics            134\n",
      "Information Technology          126\n",
      "Apps                            125\n",
      "Health Care                     112\n",
      "Energy                           97\n",
      "Artificial Intelligence (AI)     97\n",
      "Financial Services               95\n",
      "Hardware                         91\n",
      "Name: count, dtype: int64\n",
      "SECTOR ANALYSIS\n",
      "===============\n",
      "\n",
      "Top 10 sectors in final sample:\n",
      "  Commerce and Shopping: 230 (9.7%)\n",
      "  Biotechnology: 179 (7.6%)\n",
      "  Consumer Electronics: 134 (5.7%)\n",
      "  Information Technology: 126 (5.3%)\n",
      "  Apps: 125 (5.3%)\n",
      "  Health Care: 112 (4.7%)\n",
      "  Energy: 97 (4.1%)\n",
      "  Artificial Intelligence (AI): 97 (4.1%)\n",
      "  Financial Services: 95 (4.0%)\n",
      "  Hardware: 91 (3.9%)\n"
     ]
    },
    {
     "data": {
      "image/png": "[encoded data removed]",
      "text/plain": [
       "<Figure size 1200x600 with 1 Axes>"
      ]
     },
     "metadata": {},
     "output_type": "display_data"
    }
   ],
   "source": [
    "# Analyze sector information\n",
    "companies_with_sectors = extract_sector_information(companies_final)\n",
    "\n",
    "print(\"SECTOR ANALYSIS\")\n",
    "print(\"=\"*15)\n",
    "\n",
    "if 'main_category' in companies_with_sectors.columns:\n",
    "    sector_counts = companies_with_sectors['main_category'].value_counts()\n",
    "    print(f\"\\nTop 10 sectors in final sample:\")\n",
    "    for sector, count in sector_counts.head(10).items():\n",
    "        pct = (count / len(companies_with_sectors)) * 100\n",
    "        print(f\"  {sector}: {count} ({pct:.1f}%)\")\n",
    "        \n",
    "    # Visualize top sectors\n",
    "    plt.figure(figsize=(12, 6))\n",
    "    sector_counts.head(15).plot(kind='bar', alpha=0.7, edgecolor='black')\n",
    "    plt.title('Top 15 Sectors in Final Sample')\n",
    "    plt.xlabel('Sector')\n",
    "    plt.ylabel('Number of Companies')\n",
    "    plt.xticks(rotation=45, ha='right')\n",
    "    plt.tight_layout()\n",
    "    plt.show()\n",
    "else:\n",
    "    print(\"No sector information available\")"
   ]
  },
  {
   "cell_type": "code",
   "execution_count": 10,
   "id": "3ac05310",
   "metadata": {},
   "outputs": [
    {
     "name": "stdout",
     "output_type": "stream",
     "text": [
      "TEMPORAL PATTERNS ANALYSIS\n",
      "============================\n",
      "\n",
      "Founding years range: 1995 - 2017\n",
      "Investment years range: 1999 - 2025\n"
     ]
    },
    {
     "data": {
      "image/png": "[encoded data removed]",
      "text/plain": [
       "<Figure size 1200x400 with 2 Axes>"
      ]
     },
     "metadata": {},
     "output_type": "display_data"
    }
   ],
   "source": [
    "# Analyze temporal patterns\n",
    "print(\"TEMPORAL PATTERNS ANALYSIS\")\n",
    "print(\"=\"*28)\n",
    "\n",
    "if 'founded_year' in companies_final.columns:\n",
    "    founding_years = companies_final['founded_year'].dropna()\n",
    "    print(f\"\\nFounding years range: {founding_years.min():.0f} - {founding_years.max():.0f}\")\n",
    "    \n",
    "    # Plot founding year distribution\n",
    "    plt.figure(figsize=(12, 4))\n",
    "    \n",
    "    plt.subplot(1, 2, 1)\n",
    "    founding_years.hist(bins=20, alpha=0.7, edgecolor='black')\n",
    "    plt.xlabel('Founding Year')\n",
    "    plt.ylabel('Number of Companies')\n",
    "    plt.title('Distribution of Company Founding Years')\n",
    "    \n",
    "    if 'announced_year' in investments_final.columns:\n",
    "        investment_years = investments_final['announced_year'].dropna()\n",
    "        print(f\"Investment years range: {investment_years.min():.0f} - {investment_years.max():.0f}\")\n",
    "        \n",
    "        plt.subplot(1, 2, 2)\n",
    "        investment_years.hist(bins=20, alpha=0.7, edgecolor='black')\n",
    "        plt.xlabel('Investment Year')\n",
    "        plt.ylabel('Number of Investments')\n",
    "        plt.title('Distribution of Investment Years')\n",
    "    \n",
    "    plt.tight_layout()\n",
    "    plt.show()"
   ]
  },
  {
   "cell_type": "markdown",
   "id": "06c2de9f",
   "metadata": {},
   "source": [
    "### 1.3. Validation Against Literature Methodology"
   ]
  },
  {
   "cell_type": "code",
   "execution_count": 11,
   "id": "c78f7a63",
   "metadata": {},
   "outputs": [
    {
     "name": "stdout",
     "output_type": "stream",
     "text": [
      "VALIDATION AGAINST PAPER METHODOLOGY\n",
      "======================================\n",
      "\n",
      "1. Companies founded after 2014 excluded: ✓\n",
      "   Latest founding year in sample: 2017\n",
      "\n",
      "2. Minimum funding threshold of $150,000 applied: ✓\n",
      "   Minimum total funding in sample: $150,000\n",
      "\n",
      "3. Companies with exit status excluded: ✓\n",
      "   Company statuses in final sample:\n",
      "     operating: 2361\n",
      "\n",
      "4. Accelerator-only companies excluded: ✓\n",
      "   All companies have at least one non-accelerator investor\n",
      "\n",
      "5. Sample size comparison:\n",
      "   Paper reported: 6,000 companies (688 accelerated)\n",
      "   Our sample: 2,361 companies (483 accelerated)\n",
      "   Our sample size is 39.4% of paper's size\n"
     ]
    }
   ],
   "source": [
    "# Validate our results against the paper's methodology\n",
    "print(\"VALIDATION AGAINST PAPER METHODOLOGY\")\n",
    "print(\"=\"*38)\n",
    "\n",
    "# Check key criteria from the paper\n",
    "print(\"\\n1. Companies founded after 2014 excluded: ✓\")\n",
    "if 'founded_year' in companies_final.columns:\n",
    "    max_year = companies_final['founded_year'].max()\n",
    "    print(f\"   Latest founding year in sample: {max_year}\")\n",
    "\n",
    "print(\"\\n2. Minimum funding threshold of $150,000 applied: ✓\")\n",
    "company_totals = investments_final.groupby('org_uuid')['total_funding_usd'].sum()\n",
    "min_funding = company_totals.min()\n",
    "print(f\"   Minimum total funding in sample: ${min_funding:,.0f}\")\n",
    "\n",
    "print(\"\\n3. Companies with exit status excluded: ✓\")\n",
    "if 'status' in companies_final.columns:\n",
    "    exit_statuses = companies_final['status'].value_counts()\n",
    "    print(f\"   Company statuses in final sample:\")\n",
    "    for status, count in exit_statuses.items():\n",
    "        print(f\"     {status}: {count}\")\n",
    "\n",
    "print(\"\\n4. Accelerator-only companies excluded: ✓\")\n",
    "print(f\"   All companies have at least one non-accelerator investor\")\n",
    "\n",
    "print(\"\\n5. Sample size comparison:\")\n",
    "print(f\"   Paper reported: 6,000 companies (688 accelerated)\")\n",
    "print(f\"   Our sample: {len(companies_final):,} companies ({len(accelerated_in_final)} accelerated)\")\n",
    "print(f\"   Our sample size is {(len(companies_final)/6000)*100:.1f}% of paper's size\")"
   ]
  },
  {
   "cell_type": "code",
   "execution_count": 12,
   "id": "564a55ed",
   "metadata": {},
   "outputs": [
    {
     "name": "stdout",
     "output_type": "stream",
     "text": [
      "FINAL SUMMARY\n",
      "===============\n",
      "\n",
      "Dataset successfully cleaned following Dalle et al. (2025) methodology:\n",
      "✓ 2,361 companies in final sample\n",
      "✓ 10,163 investment records\n",
      "✓ 2,343 unique investors\n",
      "✓ 483 companies participated in accelerators (20.5%)\n",
      "✓ Average funding per company: $301,532,570\n",
      "✓ Total funding volume: $711,918,398,201\n",
      "\n",
      "==================================================\n",
      "DATA CLEANING AND VALIDATION COMPLETED SUCCESSFULLY!\n",
      "==================================================\n"
     ]
    }
   ],
   "source": [
    "# Final summary and export\n",
    "print(\"FINAL SUMMARY\")\n",
    "print(\"=\"*15)\n",
    "\n",
    "print(f\"\\nDataset successfully cleaned following Dalle et al. (2025) methodology:\")\n",
    "print(f\"✓ {len(companies_final):,} companies in final sample\")\n",
    "print(f\"✓ {len(investments_final):,} investment records\")\n",
    "print(f\"✓ {investments_final['investor_uuid'].nunique():,} unique investors\")\n",
    "print(f\"✓ {len(accelerated_in_final):,} companies participated in accelerators ({len(accelerated_in_final)/len(companies_final):.1%})\")\n",
    "print(f\"✓ Average funding per company: ${funding_summary['total_funding_sum'].mean():,.0f}\")\n",
    "print(f\"✓ Total funding volume: ${funding_summary['total_funding_sum'].sum():,.0f}\")\n",
    "\n",
    "print(\"\\n\" + \"=\"*50)\n",
    "print(\"DATA CLEANING AND VALIDATION COMPLETED SUCCESSFULLY!\")\n",
    "print(\"=\"*50)"
   ]
  },
  {
   "cell_type": "markdown",
   "id": "856a918c",
   "metadata": {},
   "source": [
    "## 2. Network Edges Definition"
   ]
  },
  {
   "cell_type": "markdown",
   "id": "14619a86",
   "metadata": {},
   "source": [
    "### 2.1. Coinvestments ignoring funding rounds"
   ]
  },
  {
   "cell_type": "code",
   "execution_count": 13,
   "id": "54814d01",
   "metadata": {},
   "outputs": [
    {
     "name": "stdout",
     "output_type": "stream",
     "text": [
      "EXTRACTING ACCELERATOR INVESTMENTS\n",
      "===================================\n",
      "Found 675 accelerator investments\n",
      "Unique companies in accelerators: 483\n",
      "\n",
      "Sample of accelerator investments:\n",
      "        company_name    investor_name investor_types  total_funding_usd\n",
      "342   La Cartoonerie            WILCO    accelerator           676000.0\n",
      "444          Force-A            WILCO    accelerator          7488077.0\n",
      "631         Geodruid            WILCO    accelerator           177526.0\n",
      "985          Homeloc        Netangels    accelerator           131845.0\n",
      "1251        Mobypark  Startupbootcamp    accelerator           837000.0\n"
     ]
    }
   ],
   "source": [
    "# Extract accelerator investments\n",
    "print(\"EXTRACTING ACCELERATOR INVESTMENTS\")\n",
    "print(\"=\"*35)\n",
    "\n",
    "accelerated_investments = extract_accelerator_investments(cleaned_data['investments'])\n",
    "\n",
    "print(\"\\nSample of accelerator investments:\")\n",
    "if 'company_name' in accelerated_investments.columns:\n",
    "    display_cols = ['company_name', 'investor_name', 'investor_types', 'total_funding_usd']\n",
    "    print(accelerated_investments[display_cols].head())\n",
    "else:\n",
    "    print(accelerated_investments[['org_uuid', 'investor_name', 'investor_types']].head())"
   ]
  },
  {
   "cell_type": "code",
   "execution_count": 14,
   "id": "da6619d7",
   "metadata": {},
   "outputs": [
    {
     "name": "stdout",
     "output_type": "stream",
     "text": [
      "EXTRACTING VC INVESTMENTS\n",
      "=========================\n",
      "Found 5705 VC investments\n",
      "Unique companies with VC funding: 1835\n",
      "\n",
      "Sample of VC investments:\n",
      "            company_name      investor_name  \\\n",
      "1                 TVtrip  Balderton Capital   \n",
      "2                 TVtrip            Partech   \n",
      "9                 Twenga           3i Group   \n",
      "29                 MyFab              Alven   \n",
      "38  Inspirational Stores      Atlas Venture   \n",
      "\n",
      "                         investor_types  total_funding_usd  \n",
      "1                       venture capital         13770000.0  \n",
      "2                       venture capital         13770000.0  \n",
      "9   private equity firm,venture capital         14790959.0  \n",
      "29                      venture capital         10176279.0  \n",
      "38                      venture capital         11470000.0  \n"
     ]
    }
   ],
   "source": [
    "# Extract VC investments\n",
    "print(\"EXTRACTING VC INVESTMENTS\")\n",
    "print(\"=\"*25)\n",
    "\n",
    "vc_investments = extract_vc_investments(cleaned_data['investments'])\n",
    "\n",
    "print(\"\\nSample of VC investments:\")\n",
    "if 'company_name' in vc_investments.columns:\n",
    "    display_cols = ['company_name', 'investor_name', 'investor_types', 'total_funding_usd']\n",
    "    print(vc_investments[display_cols].head())\n",
    "else:\n",
    "    print(vc_investments[['org_uuid', 'investor_name', 'investor_types']].head())"
   ]
  },
  {
   "cell_type": "code",
   "execution_count": 15,
   "id": "0ddfb05a",
   "metadata": {},
   "outputs": [
    {
     "name": "stdout",
     "output_type": "stream",
     "text": [
      "CREATING INVESTMENT PAIRS\n",
      "==============================\n",
      "\n",
      "Accelerator-VC pairs:\n",
      "Created 2910 investment pairs\n",
      "Covering 407 unique investors\n",
      "                               org_uuid investor_name_acc  \\\n",
      "0  6b399940-4fa0-b5a3-30ae-396d0fec6c09             WILCO   \n",
      "1  e8a05c96-5073-f3cc-95a7-7f9bfa60dc50             WILCO   \n",
      "2  e8a05c96-5073-f3cc-95a7-7f9bfa60dc50             WILCO   \n",
      "3  e8a05c96-5073-f3cc-95a7-7f9bfa60dc50             WILCO   \n",
      "4  e8a05c96-5073-f3cc-95a7-7f9bfa60dc50             WILCO   \n",
      "\n",
      "                    investor_name_vc  \n",
      "0                     Club Invest 77  \n",
      "1  Scientipole Ile-de-France Capital  \n",
      "2                             IXcore  \n",
      "3                    Gogreen Capital  \n",
      "4                            Capagro  \n",
      "\n",
      "VC-VC pairs:\n",
      "Created 43505 investment pairs\n",
      "Covering 1835 unique investors\n",
      "                               org_uuid investor_name_left investor_name_right\n",
      "0  a0f5e737-d973-703c-7f66-0fc31d0e4b5b  Balderton Capital   Balderton Capital\n",
      "1  a0f5e737-d973-703c-7f66-0fc31d0e4b5b  Balderton Capital             Partech\n",
      "2  a0f5e737-d973-703c-7f66-0fc31d0e4b5b  Balderton Capital   Balderton Capital\n",
      "3  a0f5e737-d973-703c-7f66-0fc31d0e4b5b  Balderton Capital             Partech\n",
      "4  a0f5e737-d973-703c-7f66-0fc31d0e4b5b            Partech   Balderton Capital\n"
     ]
    }
   ],
   "source": [
    "# Create investment pairs\n",
    "print(\"CREATING INVESTMENT PAIRS\")\n",
    "print(\"=\"*30)\n",
    "\n",
    "print(\"\\nAccelerator-VC pairs:\")\n",
    "accelerator_vc_pairs = create_investment_pairs(accelerated_investments, vc_investments, 'acc', 'vc')\n",
    "print(accelerator_vc_pairs[['org_uuid', 'investor_name_acc', 'investor_name_vc']].head())\n",
    "\n",
    "print(\"\\nVC-VC pairs:\")\n",
    "vc_vc_pairs = create_investment_pairs(vc_investments, vc_investments)\n",
    "print(vc_vc_pairs[['org_uuid', 'investor_name_left', 'investor_name_right']].head())"
   ]
  },
  {
   "cell_type": "markdown",
   "id": "5fa0e797",
   "metadata": {},
   "source": [
    "### 2.2. Coinvestments sensible to funding rounds"
   ]
  },
  {
   "cell_type": "code",
   "execution_count": 16,
   "id": "767599e8",
   "metadata": {},
   "outputs": [
    {
     "name": "stdout",
     "output_type": "stream",
     "text": [
      "EXTRACTING VC SERIES A INVESTMENTS\n",
      "=========================\n",
      "Found 1589 funding rounds with 'series_a' type\n",
      "Found 1975 investments from these funding rounds\n",
      "Unique companies with series_a investments: 692\n",
      "\n",
      "Sample of series A investments:\n",
      "   company_name         investor_name   investor_types  total_funding_usd\n",
      "1        TVtrip     Balderton Capital  venture capital         13770000.0\n",
      "2        TVtrip               Partech  venture capital         13770000.0\n",
      "29        MyFab                 Alven  venture capital         10176279.0\n",
      "41          C4M  CM-CIC Capital Prive  venture capital          3604819.0\n",
      "69         GOOM   Wellington Partners  venture capital         16000000.0\n"
     ]
    }
   ],
   "source": [
    "# Extract VC series_a investments\n",
    "print(\"EXTRACTING VC SERIES A INVESTMENTS\")\n",
    "print(\"=\"*25)\n",
    "\n",
    "series_a_vc_investments = extract_investments_by_type(cleaned_data['investments'], cleaned_data['funding_rounds'], 'series_a')\n",
    "\n",
    "print(\"\\nSample of series A investments:\")\n",
    "if 'company_name' in series_a_vc_investments.columns:\n",
    "    display_cols = ['company_name', 'investor_name', 'investor_types', 'total_funding_usd']\n",
    "    print(series_a_vc_investments[display_cols].head())\n",
    "else:\n",
    "    print(series_a_vc_investments[['org_uuid', 'investor_name', 'investment_type']].head())"
   ]
  },
  {
   "cell_type": "code",
   "execution_count": 17,
   "id": "dc4ae8c7",
   "metadata": {},
   "outputs": [
    {
     "name": "stdout",
     "output_type": "stream",
     "text": [
      "EXTRACTING VC SERIES B INVESTMENTS\n",
      "=========================\n",
      "Found 618 funding rounds with 'series_b' type\n",
      "Found 1348 investments from these funding rounds\n",
      "Unique companies with series_b investments: 321\n",
      "\n",
      "Sample of series B investments:\n",
      "            company_name      investor_name  \\\n",
      "11                Viadeo  Idinvest Partners   \n",
      "38  Inspirational Stores      Atlas Venture   \n",
      "39  Inspirational Stores             Apicap   \n",
      "61                TVtrip  Balderton Capital   \n",
      "62                TVtrip            Partech   \n",
      "\n",
      "                         investor_types  total_funding_usd  \n",
      "11                  private equity firm         57026464.0  \n",
      "38                      venture capital         11470000.0  \n",
      "39  private equity firm,venture capital         11470000.0  \n",
      "61                      venture capital         13770000.0  \n",
      "62                      venture capital         13770000.0  \n"
     ]
    }
   ],
   "source": [
    "# Extract VC series_b investments   \n",
    "print(\"EXTRACTING VC SERIES B INVESTMENTS\")\n",
    "print(\"=\"*25)\n",
    "series_b_vc_investments = extract_investments_by_type(cleaned_data['investments'], cleaned_data['funding_rounds'], 'series_b')\n",
    "\n",
    "print(\"\\nSample of series B investments:\")\n",
    "if 'company_name' in series_b_vc_investments.columns:\n",
    "    display_cols = ['company_name', 'investor_name', 'investor_types', 'total_funding_usd']\n",
    "    print(series_b_vc_investments[display_cols].head())\n",
    "else:\n",
    "    print(series_b_vc_investments[['org_uuid', 'investor_name', 'investor_types']].head())"
   ]
  },
  {
   "cell_type": "code",
   "execution_count": 18,
   "id": "4371b31a",
   "metadata": {},
   "outputs": [
    {
     "name": "stdout",
     "output_type": "stream",
     "text": [
      "CREATING INVESTMENT PAIRS\n",
      "==============================\n",
      "Serie B VC - Series B VC pairs:\n",
      "Created 3699 investment pairs\n",
      "Covering 232 unique investors\n",
      "                               org_uuid investor_name_vc_a investor_name_vc_b\n",
      "0  a0f5e737-d973-703c-7f66-0fc31d0e4b5b  Balderton Capital  Balderton Capital\n",
      "1  a0f5e737-d973-703c-7f66-0fc31d0e4b5b  Balderton Capital            Partech\n",
      "2  a0f5e737-d973-703c-7f66-0fc31d0e4b5b            Partech  Balderton Capital\n",
      "3  a0f5e737-d973-703c-7f66-0fc31d0e4b5b            Partech            Partech\n",
      "4  ce608898-ff6f-a8f9-89cb-2fb2b47b6da3              Alven              Alven\n"
     ]
    }
   ],
   "source": [
    "# Create investment pairs\n",
    "print(\"CREATING INVESTMENT PAIRS\")\n",
    "print(\"=\"*30)\n",
    "\n",
    "print(\"Serie B VC - Series B VC pairs:\")\n",
    "series_a_b_vc_pairs = create_investment_pairs(series_a_vc_investments, series_b_vc_investments, 'vc_a', 'vc_b')\n",
    "print(series_a_b_vc_pairs[['org_uuid', 'investor_name_vc_a', 'investor_name_vc_b']].head())"
   ]
  },
  {
   "cell_type": "markdown",
   "id": "4a319d7b",
   "metadata": {},
   "source": [
    "## Network Properties Exploration"
   ]
  },
  {
   "cell_type": "markdown",
   "id": "7f5a3c57",
   "metadata": {},
   "source": [
    "### Bipartite projection"
   ]
  },
  {
   "cell_type": "code",
   "execution_count": null,
   "id": "72debb2b",
   "metadata": {},
   "outputs": [],
   "source": []
  },
  {
   "cell_type": "markdown",
   "id": "882294f6",
   "metadata": {},
   "source": [
    "# Parking lot"
   ]
  },
  {
   "cell_type": "code",
   "execution_count": 19,
   "id": "96a8cc90",
   "metadata": {},
   "outputs": [
    {
     "name": "stdout",
     "output_type": "stream",
     "text": [
      "IDENTIFYING TWO-STAGE COMPANIES\n",
      "================================\n",
      "Companies with both accelerator and VC funding: 407\n",
      "\n",
      "Two-stage companies sample:\n",
      "                               org_uuid\n",
      "0  2e4a3b74-d4ff-416d-b525-1ef72eeae94a\n",
      "1  343c2ed9-c267-ff1c-b441-3bc17320c7b4\n",
      "2  eafff02e-a087-2e30-5f6a-dc5a3dc37e29\n",
      "3  82d554f4-3f8e-2bc6-e5c0-32e2f222d7e2\n",
      "4  4aa93fd7-f6b7-4a37-8c47-b6bd7e95d7d8\n",
      "\n",
      "OVERLAP ANALYSIS:\n",
      "Total companies with accelerator funding: 483\n",
      "Total companies with VC funding: 1835\n",
      "Companies with both (two-stage): 407\n",
      "Overlap rate (accelerated -> VC): 84.3%\n"
     ]
    }
   ],
   "source": [
    "# Identify companies with both accelerator and VC funding\n",
    "print(\"IDENTIFYING TWO-STAGE COMPANIES\")\n",
    "print(\"=\"*32)\n",
    "\n",
    "two_stage_companies = identify_two_stage_companies(accelerated_investments, vc_investments)\n",
    "\n",
    "print(\"\\nTwo-stage companies sample:\")\n",
    "print(two_stage_companies.head())\n",
    "\n",
    "# Analyze the overlap\n",
    "total_accelerated = accelerated_investments['org_uuid'].nunique()\n",
    "total_vc = vc_investments['org_uuid'].nunique()\n",
    "total_two_stage = len(two_stage_companies)\n",
    "\n",
    "print(f\"\\nOVERLAP ANALYSIS:\")\n",
    "print(f\"Total companies with accelerator funding: {total_accelerated}\")\n",
    "print(f\"Total companies with VC funding: {total_vc}\")\n",
    "print(f\"Companies with both (two-stage): {total_two_stage}\")\n",
    "print(f\"Overlap rate (accelerated -> VC): {(total_two_stage/total_accelerated)*100:.1f}%\")"
   ]
  },
  {
   "cell_type": "markdown",
   "id": "e174dd1e",
   "metadata": {},
   "source": [
    "## 3. Bipartite Network Analysis"
   ]
  },
  {
   "cell_type": "markdown",
   "id": "be6425f1",
   "metadata": {},
   "source": [
    "### 3.1. Accelerator-VC Bipartite Network\n",
    "\n",
    "We analyze the bipartite network between accelerators and VCs, where edges represent co-investment relationships."
   ]
  },
  {
   "cell_type": "code",
   "execution_count": 20,
   "id": "8403c29f",
   "metadata": {},
   "outputs": [
    {
     "name": "stdout",
     "output_type": "stream",
     "text": [
      "EXTRACTING ACCELERATOR-VC BIPARTITE EDGES\n",
      "==========================================\n",
      "\n",
      "Unique accelerator-VC co-investment edges: 1352\n",
      "Total funding volume in edges: $311,602,872,983\n",
      "\n",
      "Sample edges:\n",
      "  investor_name_acc investor_name_vc  total_funding_usd\n",
      "0      212 Founders       CDG Invest          6192646.0\n",
      "1      212 Founders          Créazur         11985292.0\n",
      "2      212 Founders     Olbia Invest         11985292.0\n",
      "3          AGORANOV             115K         10904448.0\n",
      "4          AGORANOV      360 Capital         41619451.0\n"
     ]
    }
   ],
   "source": [
    "# Extract unique edges from accelerator-VC pairs\n",
    "print(\"EXTRACTING ACCELERATOR-VC BIPARTITE EDGES\")\n",
    "print(\"=\"*42)\n",
    "\n",
    "# Extract unique edges with funding amounts as weights\n",
    "acc_vc_edges = extract_bipartite_edges_from_pairs(\n",
    "    accelerator_vc_pairs, \n",
    "    'investor_name_acc', \n",
    "    'investor_name_vc',\n",
    "    'total_funding_usd'\n",
    ")\n",
    "\n",
    "print(f\"\\nUnique accelerator-VC co-investment edges: {len(acc_vc_edges)}\")\n",
    "print(f\"Total funding volume in edges: ${acc_vc_edges['total_funding_usd'].sum():,.0f}\")\n",
    "\n",
    "# Show sample edges\n",
    "print(\"\\nSample edges:\")\n",
    "print(acc_vc_edges.head())"
   ]
  },
  {
   "cell_type": "code",
   "execution_count": null,
   "id": "43ada645",
   "metadata": {},
   "outputs": [],
   "source": [
    "# Comprehensive bipartite analysis -> not used, use the one below\n",
    "print(\"ACCELERATOR-VC BIPARTITE NETWORK ANALYSIS\")\n",
    "print(\"=\"*41)\n",
    "\n",
    "acc_vc_analysis = analyze_bipartite_structure(\n",
    "    acc_vc_edges,\n",
    "    'investor_name_acc',\n",
    "    'investor_name_vc',\n",
    "    'total_funding_usd',\n",
    "    'Accelerators',\n",
    "    'VCs'\n",
    ")\n",
    "\n",
    "# Display basic metrics\n",
    "metrics = acc_vc_analysis['basic_metrics']\n",
    "print(f\"\\nNetwork Structure:\")\n",
    "print(f\"  Accelerators: {metrics['set_0_size']}\")\n",
    "print(f\"  VCs: {metrics['set_1_size']}\")\n",
    "print(f\"  Co-investment edges: {metrics['num_edges']}\")\n",
    "print(f\"  Network density: {metrics['density']:.3f}\")\n",
    "print(f\"  Connected components: {metrics['num_components']}\")\n",
    "\n",
    "print(f\"\\nDegree Statistics:\")\n",
    "print(f\"  Avg accelerator degree: {metrics['avg_degree_set_0']:.2f}\")\n",
    "print(f\"  Avg VC degree: {metrics['avg_degree_set_1']:.2f}\")\n",
    "print(f\"  Max accelerator degree: {metrics['max_degree_set_0']}\")\n",
    "print(f\"  Max VC degree: {metrics['max_degree_set_1']}\")"
   ]
  },
  {
   "cell_type": "code",
   "execution_count": 22,
   "id": "17acc4ad",
   "metadata": {},
   "outputs": [
    {
     "name": "stdout",
     "output_type": "stream",
     "text": [
      "CHECKING FOR OVERLAPPING NODES IN ACCELERATOR-VC DATA\n",
      "======================================================\n",
      "\n",
      "Overlap Analysis:\n",
      "  Accelerators: 117\n",
      "  VCs: 627\n",
      "  Overlapping entities: 1\n",
      "  Is truly bipartite: False\n",
      "\n",
      "First 10 overlapping entities:\n",
      "  - Raise Ventures\n",
      "\n",
      "These entities appear as both accelerators and VCs in the data.\n",
      "This is common since some organizations play both roles.\n"
     ]
    }
   ],
   "source": [
    "# First, let's check for overlapping nodes in the accelerator-VC data\n",
    "print(\"CHECKING FOR OVERLAPPING NODES IN ACCELERATOR-VC DATA\")\n",
    "print(\"=\"*54)\n",
    "\n",
    "overlap_info = check_bipartite_overlap(\n",
    "    acc_vc_edges,\n",
    "    'investor_name_acc',\n",
    "    'investor_name_vc'\n",
    ")\n",
    "\n",
    "print(f\"\\nOverlap Analysis:\")\n",
    "print(f\"  Accelerators: {overlap_info['set_1_size']}\")\n",
    "print(f\"  VCs: {overlap_info['set_2_size']}\")\n",
    "print(f\"  Overlapping entities: {overlap_info['overlap_size']}\")\n",
    "print(f\"  Is truly bipartite: {overlap_info['is_truly_bipartite']}\")\n",
    "\n",
    "if overlap_info['overlap_size'] > 0:\n",
    "    print(f\"\\nFirst 10 overlapping entities:\")\n",
    "    for entity in list(overlap_info['overlap_nodes'])[:10]:\n",
    "        print(f\"  - {entity}\")\n",
    "    \n",
    "    print(f\"\\nThese entities appear as both accelerators and VCs in the data.\")\n",
    "    print(f\"This is common since some organizations play both roles.\")"
   ]
  },
  {
   "cell_type": "code",
   "execution_count": null,
   "id": "d4099085",
   "metadata": {},
   "outputs": [
    {
     "name": "stdout",
     "output_type": "stream",
     "text": [
      "ACCELERATOR-VC BIPARTITE NETWORK ANALYSIS (ROBUST)\n",
      "====================================================\n",
      "Warning: 1 overlapping nodes found between sets\n",
      "Overlapping nodes: ['Raise Ventures']\n",
      "Added suffixes to create pseudo-bipartite structure\n",
      "\n",
      "Network Structure:\n",
      "  Accelerator nodes: 117\n",
      "  VC nodes: 627\n",
      "  Co-investment edges: 1352\n",
      "  Network density: 0.018\n",
      "  Connected components: 12\n",
      "\n",
      "Overlap Information:\n",
      "  Original overlapping entities: 1\n",
      "  Handled by adding suffixes: _Accelerators, _VCs\n",
      "\n",
      "Degree Statistics:\n",
      "  Avg accelerator degree: 11.56\n",
      "  Avg VC degree: 2.16\n",
      "  Max accelerator degree: 177\n",
      "  Max VC degree: 15\n",
      "\n",
      "Network Structure:\n",
      "  Accelerator nodes: 117\n",
      "  VC nodes: 627\n",
      "  Co-investment edges: 1352\n",
      "  Network density: 0.018\n",
      "  Connected components: 12\n",
      "\n",
      "Overlap Information:\n",
      "  Original overlapping entities: 1\n",
      "  Handled by adding suffixes: _Accelerators, _VCs\n",
      "\n",
      "Degree Statistics:\n",
      "  Avg accelerator degree: 11.56\n",
      "  Avg VC degree: 2.16\n",
      "  Max accelerator degree: 177\n",
      "  Max VC degree: 15\n"
     ]
    }
   ],
   "source": [
    "# Use robust bipartite analysis with suffix handling\n",
    "print(\"ACCELERATOR-VC BIPARTITE NETWORK ANALYSIS (ROBUST)\")\n",
    "print(\"=\"*52)\n",
    "\n",
    "acc_vc_analysis = analyze_bipartite_structure_robust(\n",
    "    acc_vc_edges,\n",
    "    'investor_name_acc',\n",
    "    'investor_name_vc',\n",
    "    'total_funding_usd',\n",
    "    'Accelerators',\n",
    "    'VCs',\n",
    "    handle_overlap='suffix'\n",
    ")\n",
    "\n",
    "metrics = acc_vc_analysis['basic_metrics']\n",
    "overlap_info = acc_vc_analysis['overlap_info']\n",
    "\n",
    "print(f\"\\nNetwork Structure:\")\n",
    "print(f\"  Accelerator nodes: {metrics['set_0_size']}\")\n",
    "print(f\"  VC nodes: {metrics['set_1_size']}\")\n",
    "print(f\"  Co-investment edges: {metrics['num_edges']}\")\n",
    "print(f\"  Network density: {metrics['density']:.3f}\")\n",
    "print(f\"  Connected components: {metrics['num_components']}\")\n",
    "\n",
    "print(f\"\\nOverlap Information:\")\n",
    "print(f\"  Original overlapping entities: {overlap_info['overlap_size']}\")\n",
    "print(f\"  Handled by adding suffixes: _Accelerators, _VCs\")\n",
    "\n",
    "print(f\"\\nDegree Statistics:\")\n",
    "print(f\"  Avg accelerator degree: {metrics['avg_degree_set_0']:.2f}\")\n",
    "print(f\"  Avg VC degree: {metrics['avg_degree_set_1']:.2f}\")\n",
    "print(f\"  Max accelerator degree: {metrics['max_degree_set_0']}\")\n",
    "print(f\"  Max VC degree: {metrics['max_degree_set_1']}\")"
   ]
  },
  {
   "cell_type": "code",
   "execution_count": 25,
   "id": "c4f54e95",
   "metadata": {},
   "outputs": [
    {
     "name": "stdout",
     "output_type": "stream",
     "text": [
      "STRUCTURAL ANALYSIS\n",
      "===================\n",
      "\n",
      "Nestedness (NODF):\n",
      "  Total NODF score: 11.03\n",
      "  Accelerator NODF: 4.99\n",
      "  VC NODF: 17.08\n",
      "\n",
      "Cross-Assortativity:\n",
      "  Correlation: -0.056\n",
      "  P-value: 0.040\n",
      "\n",
      "Clustering (Redundancy):\n",
      "  Average clustering: 0.397\n",
      "  Accelerator clustering: 0.090\n",
      "  VC clustering: 0.454\n"
     ]
    }
   ],
   "source": [
    "# Nestedness analysis\n",
    "nestedness = acc_vc_analysis['nestedness']\n",
    "cross_assort = acc_vc_analysis['cross_assortativity']\n",
    "\n",
    "print(\"STRUCTURAL ANALYSIS\")\n",
    "print(\"=\"*19)\n",
    "\n",
    "print(f\"\\nNestedness (NODF):\")\n",
    "print(f\"  Total NODF score: {nestedness['nodf_total']:.2f}\")\n",
    "print(f\"  Accelerator NODF: {nestedness['nodf_rows']:.2f}\")\n",
    "print(f\"  VC NODF: {nestedness['nodf_cols']:.2f}\")\n",
    "\n",
    "print(f\"\\nCross-Assortativity:\")\n",
    "print(f\"  Correlation: {cross_assort['cross_assortativity']:.3f}\")\n",
    "print(f\"  P-value: {cross_assort['p_value']:.3f}\")\n",
    "\n",
    "print(f\"\\nClustering (Redundancy):\")\n",
    "print(f\"  Average clustering: {metrics['avg_clustering']:.3f}\")\n",
    "print(f\"  Accelerator clustering: {metrics['clustering_set_0']:.3f}\")\n",
    "print(f\"  VC clustering: {metrics['clustering_set_1']:.3f}\")"
   ]
  },
  {
   "cell_type": "code",
   "execution_count": 26,
   "id": "3dd1b1c8",
   "metadata": {},
   "outputs": [
    {
     "name": "stdout",
     "output_type": "stream",
     "text": [
      "BIPARTITE PROJECTIONS ANALYSIS\n",
      "================================\n",
      "\n",
      "Accelerator Projection (via shared VCs):\n",
      "  Nodes: 117\n",
      "  Edges: 909\n",
      "  Density: 0.134\n",
      "\n",
      "VC Projection (via shared accelerators):\n",
      "  Nodes: 627\n",
      "  Edges: 33502\n",
      "  Density: 0.171\n",
      "\n",
      "Top 5 connected accelerators (via shared VCs):\n",
      "  WILCO_Accelerators: 85 connections\n",
      "  AGORANOV_Accelerators: 78 connections\n",
      "  Crédit Agricole_Accelerators: 69 connections\n",
      "  SAP.iO_Accelerators: 56 connections\n",
      "  BOOST Programs_Accelerators: 55 connections\n",
      "\n",
      "Top 5 connected VCs (via shared accelerators):\n",
      "  Elaia_VCs: 364 connections\n",
      "  CapHorn Invest_VCs: 348 connections\n",
      "  Supernova Invest_VCs: 348 connections\n",
      "  Alven_VCs: 343 connections\n",
      "  GO CAPITAL_VCs: 342 connections\n"
     ]
    }
   ],
   "source": [
    "# Analyze projections\n",
    "projections = acc_vc_analysis['projections']\n",
    "\n",
    "print(\"BIPARTITE PROJECTIONS ANALYSIS\")\n",
    "print(\"=\"*32)\n",
    "\n",
    "acc_projection = projections['projection_0']  # Accelerator projection\n",
    "vc_projection = projections['projection_1']   # VC projection\n",
    "\n",
    "print(f\"\\nAccelerator Projection (via shared VCs):\")\n",
    "print(f\"  Nodes: {acc_projection.number_of_nodes()}\")\n",
    "print(f\"  Edges: {acc_projection.number_of_edges()}\")\n",
    "print(f\"  Density: {nx.density(acc_projection):.3f}\")\n",
    "\n",
    "print(f\"\\nVC Projection (via shared accelerators):\")\n",
    "print(f\"  Nodes: {vc_projection.number_of_nodes()}\")\n",
    "print(f\"  Edges: {vc_projection.number_of_edges()}\")\n",
    "print(f\"  Density: {nx.density(vc_projection):.3f}\")\n",
    "\n",
    "# Top connected nodes in projections\n",
    "if acc_projection.number_of_edges() > 0:\n",
    "    acc_degrees = dict(acc_projection.degree())\n",
    "    top_accs = sorted(acc_degrees.items(), key=lambda x: x[1], reverse=True)[:5]\n",
    "    print(f\"\\nTop 5 connected accelerators (via shared VCs):\")\n",
    "    for acc, degree in top_accs:\n",
    "        print(f\"  {acc}: {degree} connections\")\n",
    "\n",
    "if vc_projection.number_of_edges() > 0:\n",
    "    vc_degrees = dict(vc_projection.degree())\n",
    "    top_vcs = sorted(vc_degrees.items(), key=lambda x: x[1], reverse=True)[:5]\n",
    "    print(f\"\\nTop 5 connected VCs (via shared accelerators):\")\n",
    "    for vc, degree in top_vcs:\n",
    "        print(f\"  {vc}: {degree} connections\")"
   ]
  },
  {
   "cell_type": "code",
   "execution_count": null,
   "id": "947edf0c",
   "metadata": {},
   "outputs": [
    {
     "name": "stdout",
     "output_type": "stream",
     "text": [
      "VISUALIZATION\n",
      "=============\n",
      "Network has 744 nodes. Creating sample for visualization...\n",
      "Sample network: 50 nodes, 102 edges\n"
     ]
    },
    {
     "data": {
      "image/png": "[encoded data removed]",
      "text/plain": [
       "<Figure size 1400x1000 with 1 Axes>"
      ]
     },
     "metadata": {},
     "output_type": "display_data"
    }
   ],
   "source": [
    "# Visualize the bipartite network (sample for performance)\n",
    "print(\"VISUALIZATION\")\n",
    "print(\"=\"*13)\n",
    "\n",
    "# Create a smaller sample for visualization if network is too large\n",
    "G = acc_vc_analysis['graph']\n",
    "\n",
    "if G.number_of_nodes() > 100:\n",
    "    print(f\"Network has {G.number_of_nodes()} nodes. Creating sample for visualization...\")\n",
    "    \n",
    "    # Sample highest degree nodes\n",
    "    degrees = dict(G.degree())\n",
    "    top_nodes = sorted(degrees.items(), key=lambda x: x[1], reverse=True)[:50]\n",
    "    sample_nodes = [node for node, _ in top_nodes]\n",
    "    G_sample = G.subgraph(sample_nodes)\n",
    "    \n",
    "    print(f\"Sample network: {G_sample.number_of_nodes()} nodes, {G_sample.number_of_edges()} edges\")\n",
    "    visualize_bipartite_graph(G_sample, layout='circular', figsize=(14, 10))\n",
    "else:\n",
    "    visualize_bipartite_graph(G, layout='bipartite', figsize=(14, 10))"
   ]
  },
  {
   "cell_type": "code",
   "execution_count": null,
   "id": "ff8ccaf0",
   "metadata": {},
   "outputs": [],
   "source": [
    "# Visualize nestedness matrix\n",
    "print(\"\\nNESTEDNESS MATRIX VISUALIZATION\")\n",
    "print(\"=\"*32)\n",
    "\n",
    "visualize_nestedness_matrix(nestedness, figsize=(12, 8))"
   ]
  },
  {
   "cell_type": "markdown",
   "id": "c43e94ca",
   "metadata": {},
   "source": [
    "### 3.2. Series A-B VC Network Analysis\n",
    "\n",
    "Now we analyze the network between VCs investing in Series A vs Series B rounds."
   ]
  },
  {
   "cell_type": "code",
   "execution_count": null,
   "id": "6637d103",
   "metadata": {},
   "outputs": [],
   "source": [
    "# Extract Series A-B VC bipartite edges\n",
    "print(\"SERIES A-B VC BIPARTITE NETWORK\")\n",
    "print(\"=\"*33)\n",
    "\n",
    "series_ab_edges = extract_bipartite_edges_from_pairs(\n",
    "    series_a_b_vc_pairs,\n",
    "    'investor_name_vc_a',\n",
    "    'investor_name_vc_b',\n",
    "    'total_funding_usd'\n",
    ")\n",
    "\n",
    "print(f\"\\nUnique Series A-B VC co-investment edges: {len(series_ab_edges)}\")\n",
    "print(f\"Sample edges:\")\n",
    "print(series_ab_edges.head())\n",
    "\n",
    "# Analyze the network\n",
    "series_ab_analysis = analyze_bipartite_structure(\n",
    "    series_ab_edges,\n",
    "    'investor_name_vc_a',\n",
    "    'investor_name_vc_b',\n",
    "    'total_funding_usd',\n",
    "    'Series_A_VCs',\n",
    "    'Series_B_VCs'\n",
    ")\n",
    "\n",
    "# Display metrics\n",
    "ab_metrics = series_ab_analysis['basic_metrics']\n",
    "ab_nestedness = series_ab_analysis['nestedness']\n",
    "\n",
    "print(f\"\\nNetwork Structure:\")\n",
    "print(f\"  Series A VCs: {ab_metrics['set_0_size']}\")\n",
    "print(f\"  Series B VCs: {ab_metrics['set_1_size']}\")\n",
    "print(f\"  Co-investment edges: {ab_metrics['num_edges']}\")\n",
    "print(f\"  Network density: {ab_metrics['density']:.3f}\")\n",
    "print(f\"  NODF score: {ab_nestedness['nodf_total']:.2f}\")"
   ]
  },
  {
   "cell_type": "markdown",
   "id": "74e61909",
   "metadata": {},
   "source": [
    "### 3.3. VC-VC Network Analysis (Non-bipartite)\n",
    "\n",
    "For comparison, let's analyze the general VC-VC co-investment network."
   ]
  },
  {
   "cell_type": "code",
   "execution_count": null,
   "id": "c53acf16",
   "metadata": {},
   "outputs": [],
   "source": [
    "# Analyze VC-VC network structure\n",
    "print(\"VC-VC CO-INVESTMENT NETWORK\")\n",
    "print(\"=\"*28)\n",
    "\n",
    "# Extract unique VC-VC edges\n",
    "vc_vc_edges = extract_bipartite_edges_from_pairs(\n",
    "    vc_vc_pairs,\n",
    "    'investor_name_left',\n",
    "    'investor_name_right',\n",
    "    'total_funding_usd'\n",
    ")\n",
    "\n",
    "print(f\"\\nUnique VC-VC co-investment edges: {len(vc_vc_edges)}\")\n",
    "\n",
    "# Create simple graph (not bipartite)\n",
    "G_vc = nx.Graph()\n",
    "for _, row in vc_vc_edges.iterrows():\n",
    "    G_vc.add_edge(row['investor_name_left'], row['investor_name_right'], \n",
    "                  weight=row['total_funding_usd'])\n",
    "\n",
    "print(f\"\\nVC-VC Network Structure:\")\n",
    "print(f\"  VCs: {G_vc.number_of_nodes()}\")\n",
    "print(f\"  Co-investment edges: {G_vc.number_of_edges()}\")\n",
    "print(f\"  Network density: {nx.density(G_vc):.3f}\")\n",
    "print(f\"  Connected components: {nx.number_connected_components(G_vc)}\")\n",
    "\n",
    "# Check if it could be treated as bipartite\n",
    "print(f\"\\nBipartite test:\")\n",
    "is_bip = nx.is_bipartite(G_vc)\n",
    "print(f\"  Is bipartite: {is_bip}\")\n",
    "\n",
    "if not is_bip:\n",
    "    print(\"  As expected, VC-VC network is not bipartite (VCs appear on both sides)\")"
   ]
  },
  {
   "cell_type": "markdown",
   "id": "9b520459",
   "metadata": {},
   "source": [
    "### 3.4. Network Comparison\n",
    "\n",
    "Compare the different network structures we've analyzed."
   ]
  },
  {
   "cell_type": "code",
   "execution_count": null,
   "id": "035d96f0",
   "metadata": {},
   "outputs": [],
   "source": [
    "# Compare all bipartite networks\n",
    "print(\"BIPARTITE NETWORKS COMPARISON\")\n",
    "print(\"=\"*31)\n",
    "\n",
    "networks_comparison = compare_bipartite_networks({\n",
    "    'Accelerator-VC': acc_vc_analysis,\n",
    "    'Series_A-B_VCs': series_ab_analysis\n",
    "})\n",
    "\n",
    "print(\"\\nComparison Table:\")\n",
    "print(networks_comparison.to_string(index=False))\n",
    "\n",
    "# Create visualization comparing key metrics\n",
    "fig, axes = plt.subplots(2, 2, figsize=(15, 10))\n",
    "\n",
    "# Density comparison\n",
    "axes[0,0].bar(networks_comparison['Network'], networks_comparison['Density'])\n",
    "axes[0,0].set_title('Network Density')\n",
    "axes[0,0].set_ylabel('Density')\n",
    "\n",
    "# NODF comparison\n",
    "axes[0,1].bar(networks_comparison['Network'], networks_comparison['NODF_Score'])\n",
    "axes[0,1].set_title('Nestedness (NODF Score)')\n",
    "axes[0,1].set_ylabel('NODF Score')\n",
    "\n",
    "# Clustering comparison\n",
    "axes[1,0].bar(networks_comparison['Network'], networks_comparison['Avg_Clustering'])\n",
    "axes[1,0].set_title('Average Clustering')\n",
    "axes[1,0].set_ylabel('Clustering Coefficient')\n",
    "\n",
    "# Cross-assortativity comparison\n",
    "axes[1,1].bar(networks_comparison['Network'], networks_comparison['Cross_Assortativity'])\n",
    "axes[1,1].set_title('Cross-Assortativity')\n",
    "axes[1,1].set_ylabel('Correlation')\n",
    "axes[1,1].axhline(y=0, color='red', linestyle='--', alpha=0.5)\n",
    "\n",
    "plt.tight_layout()\n",
    "plt.show()"
   ]
  },
  {
   "cell_type": "markdown",
   "id": "3302adda",
   "metadata": {},
   "source": [
    "### 3.5. Interpretation and Insights\n",
    "\n",
    "Based on the bipartite network analysis, we can derive several insights about the structure of the startup ecosystem."
   ]
  },
  {
   "cell_type": "code",
   "execution_count": null,
   "id": "3bb1cf00",
   "metadata": {},
   "outputs": [],
   "source": [
    "# Generate interpretation summary\n",
    "print(\"NETWORK ANALYSIS INTERPRETATION\")\n",
    "print(\"=\"*32)\n",
    "\n",
    "print(\"\\n1. ACCELERATOR-VC RELATIONSHIPS:\")\n",
    "acc_density = acc_vc_analysis['basic_metrics']['density']\n",
    "acc_nodf = acc_vc_analysis['nestedness']['nodf_total']\n",
    "acc_assort = acc_vc_analysis['cross_assortativity']['cross_assortativity']\n",
    "\n",
    "if acc_density < 0.1:\n",
    "    print(f\"   • Low density ({acc_density:.3f}) suggests selective partnerships\")\n",
    "else:\n",
    "    print(f\"   • High density ({acc_density:.3f}) suggests broad collaboration\")\n",
    "\n",
    "if acc_nodf > 50:\n",
    "    print(f\"   • High nestedness ({acc_nodf:.1f}) indicates hierarchical structure\")\n",
    "    print(f\"     - Less connected accelerators tend to work with highly connected VCs\")\n",
    "else:\n",
    "    print(f\"   • Low nestedness ({acc_nodf:.1f}) suggests more distributed partnerships\")\n",
    "\n",
    "if acc_assort > 0.3:\n",
    "    print(f\"   • Positive assortativity ({acc_assort:.3f}) - highly active accelerators work with highly active VCs\")\n",
    "elif acc_assort < -0.3:\n",
    "    print(f\"   • Negative assortativity ({acc_assort:.3f}) - complementary partnerships (active with less active)\")\n",
    "else:\n",
    "    print(f\"   • Neutral assortativity ({acc_assort:.3f}) - mixed partnership patterns\")\n",
    "\n",
    "print(\"\\n2. PROJECTION INSIGHTS:\")\n",
    "acc_proj_density = nx.density(projections['projection_0'])\n",
    "vc_proj_density = nx.density(projections['projection_1'])\n",
    "\n",
    "print(f\"   • Accelerator indirect connections: {acc_proj_density:.3f} density\")\n",
    "print(f\"   • VC indirect connections: {vc_proj_density:.3f} density\")\n",
    "\n",
    "if acc_proj_density > vc_proj_density:\n",
    "    print(f\"   • Accelerators are more tightly connected through shared VCs\")\n",
    "else:\n",
    "    print(f\"   • VCs are more tightly connected through shared accelerators\")\n",
    "\n",
    "print(\"\\n3. STRATEGIC IMPLICATIONS:\")\n",
    "print(f\"   • Network structure reveals ecosystem organization patterns\")\n",
    "print(f\"   • High nestedness suggests importance of central players\")\n",
    "print(f\"   • Projection densities show intermediation patterns\")\n",
    "print(f\"   • Cross-assortativity indicates matching preferences\")"
   ]
  }
 ],
 "metadata": {
  "kernelspec": {
   "display_name": "Python 3",
   "language": "python",
   "name": "python3"
  },
  "language_info": {
   "codemirror_mode": {
    "name": "ipython",
    "version": 3
   },
   "file_extension": ".py",
   "mimetype": "text/x-python",
   "name": "python",
   "nbconvert_exporter": "python",
   "pygments_lexer": "ipython3",
   "version": "3.13.5"
  }
 },
 "nbformat": 4,
 "nbformat_minor": 5
}
